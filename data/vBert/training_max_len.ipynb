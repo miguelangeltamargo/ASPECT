{
 "cells": [
  {
   "cell_type": "code",
   "execution_count": 1,
   "id": "551814aa",
   "metadata": {},
   "outputs": [],
   "source": [
    "import numpy as np\n",
    "import pickle\n",
    "import matplotlib.pyplot as plt\n",
    "from sklearn.metrics import f1_score"
   ]
  },
  {
   "cell_type": "code",
   "execution_count": 2,
   "id": "da637366",
   "metadata": {},
   "outputs": [
    {
     "name": "stderr",
     "output_type": "stream",
     "text": [
      "2022-04-04 00:31:16.601795: I tensorflow/stream_executor/cuda/cuda_gpu_executor.cc:939] successful NUMA node read from SysFS had negative value (-1), but there must be at least one NUMA node, so returning NUMA node zero\n",
      "2022-04-04 00:31:16.606363: I tensorflow/stream_executor/cuda/cuda_gpu_executor.cc:939] successful NUMA node read from SysFS had negative value (-1), but there must be at least one NUMA node, so returning NUMA node zero\n",
      "2022-04-04 00:31:16.606811: I tensorflow/stream_executor/cuda/cuda_gpu_executor.cc:939] successful NUMA node read from SysFS had negative value (-1), but there must be at least one NUMA node, so returning NUMA node zero\n"
     ]
    }
   ],
   "source": [
    "import tensorflow as tf\n",
    "from tensorflow.keras import backend as K\n",
    "from tensorflow.keras.layers import Conv1D,Dense, GlobalAveragePooling1D, Embedding, MultiHeadAttention\n",
    "from tensorflow.keras.layers import MaxPool1D, Dropout, LayerNormalization, MaxPooling1D, Input\n",
    "from tensorflow.keras.models import Sequential, Model\n",
    "\n",
    "gpu_devices = tf.config.experimental.list_physical_devices('GPU')\n",
    "for device in gpu_devices:\n",
    "    tf.config.experimental.set_memory_growth(device, True)"
   ]
  },
  {
   "cell_type": "code",
   "execution_count": 19,
   "id": "634c5f14",
   "metadata": {},
   "outputs": [],
   "source": [
    "weight_address = 'weights/'\n",
    "results_address = 'results/'\n",
    "NUM_CLASSES = 6"
   ]
  },
  {
   "cell_type": "markdown",
   "id": "21e8b950",
   "metadata": {},
   "source": [
    "### The networks"
   ]
  },
  {
   "cell_type": "markdown",
   "id": "9ebe5589",
   "metadata": {},
   "source": [
    "#### Transformer"
   ]
  },
  {
   "cell_type": "code",
   "execution_count": 4,
   "id": "be5abb89",
   "metadata": {},
   "outputs": [],
   "source": [
    "class TokenAndPositionEmbedding(tf.keras.layers.Layer):\n",
    "    def __init__(self, maxlen, vocab_size, embed_dim):\n",
    "        super(TokenAndPositionEmbedding, self).__init__()\n",
    "        self.embed_dim = embed_dim\n",
    "        self.token_emb = Embedding(input_dim= vocab_size, output_dim= embed_dim)\n",
    "        self.maxlen = maxlen\n",
    "\n",
    "    def get_angles(self, pos, i, embd_dim):\n",
    "        angle_rates = 1 / np.power(10000, (2 * (i//2)) / np.float32(embd_dim))\n",
    "        return pos * angle_rates\n",
    "\n",
    "    def positional_encoding(self, max_pos_enc, embd_dim):\n",
    "        angle_rads = self.get_angles(np.arange(max_pos_enc)[:, np.newaxis],\n",
    "                                np.arange(embd_dim)[np.newaxis, :],\n",
    "                                embd_dim)\n",
    "\n",
    "        # apply sin to even indices in the array; 2i\n",
    "        angle_rads[:, 0::2] = np.sin(angle_rads[:, 0::2])\n",
    "\n",
    "        # apply cos to odd indices in the array; 2i+1\n",
    "        angle_rads[:, 1::2] = np.cos(angle_rads[:, 1::2])\n",
    "\n",
    "        pos_encoding = angle_rads[np.newaxis, ...]\n",
    "\n",
    "        return tf.cast(pos_encoding, dtype=tf.float32)\n",
    "\n",
    "    def call(self, x):\n",
    "        positions = self.positional_encoding(max_pos_enc= self.maxlen, embd_dim= self.embed_dim)\n",
    "        x = self.token_emb(x)\n",
    "        return x + positions"
   ]
  },
  {
   "cell_type": "code",
   "execution_count": 5,
   "id": "78a66e7c",
   "metadata": {},
   "outputs": [],
   "source": [
    "class TransformerBlock(tf.keras.layers.Layer):\n",
    "    def __init__(self, embed_dim, num_heads, ff_dim, rate=0.1):\n",
    "        super(TransformerBlock, self).__init__()\n",
    "        self.att = MultiHeadAttention(num_heads= num_heads, key_dim= embed_dim)\n",
    "        self.ffn = tf.keras.Sequential(\n",
    "            [Dense(ff_dim, activation=\"relu\"), Dense(embed_dim),]\n",
    "        )\n",
    "        self.layernorm1 = LayerNormalization(epsilon=1e-6)\n",
    "        self.layernorm2 = LayerNormalization(epsilon=1e-6)\n",
    "        self.dropout1 = Dropout(rate)\n",
    "        self.dropout2 = Dropout(rate)\n",
    "\n",
    "    def call(self, inputs, training):\n",
    "        attn_output = self.att(inputs, inputs)\n",
    "        attn_output = self.dropout1(attn_output, training=training)\n",
    "        out1 = self.layernorm1(inputs + attn_output)\n",
    "        ffn_output = self.ffn(out1)\n",
    "        ffn_output = self.dropout2(ffn_output, training=training)\n",
    "        return self.layernorm2(out1 + ffn_output)"
   ]
  },
  {
   "cell_type": "markdown",
   "id": "547fc7cc",
   "metadata": {},
   "source": [
    "### Transformer and CNN"
   ]
  },
  {
   "cell_type": "code",
   "execution_count": 6,
   "id": "5d7d7a84",
   "metadata": {},
   "outputs": [],
   "source": [
    "@tf.autograph.experimental.do_not_convert # added to silence a warning related to TF\n",
    "def create_model_cnn_transformer(maxlen = 30121, vocab_size = 259,\n",
    "                                embed_dim = 50, num_heads = 2, \n",
    "                                ff_dim = 16, dout = 0.1,\n",
    "                                filters = 64, kernel_size = 3, \n",
    "                                pool_window = 2, extra_dense_nodes = 20, pool = 'maxpool',\n",
    "                                summary = True):\n",
    "    '''\n",
    "    embed_dim - Embedding size for each token\n",
    "    num_heads - Number of attention heads\n",
    "    ff_dim - Hidden layer size in feed forward network inside transformer\n",
    "    pool - can be \"maxpool\" for local maxpooling or \"globalAvg\" for global average pooling\n",
    "    '''\n",
    "    # input\n",
    "    inputs = Input(shape=(maxlen,))\n",
    "    # embeddding\n",
    "    embedding_layer = TokenAndPositionEmbedding(inputs.shape[1], vocab_size, embed_dim)\n",
    "    x = embedding_layer(inputs)\n",
    "    # convolution\n",
    "    x = Conv1D(filters= filters, kernel_size= kernel_size)(x)\n",
    "    if pool == 'maxpool':\n",
    "        x = MaxPooling1D(pool_size= pool_window)(x)\n",
    "    else:\n",
    "        print('the feature not working yet')\n",
    "\n",
    "    print(x.shape)\n",
    "    # transformer\n",
    "    transformer_block = TransformerBlock(filters, num_heads, ff_dim)\n",
    "    # print('transformer_block input shape:', x.shape)\n",
    "    x = transformer_block(x)\n",
    "    # extra dense layers\n",
    "    x = GlobalAveragePooling1D()(x)\n",
    "    x = Dropout(dout)(x)\n",
    "    if extra_dense_nodes!= 0:\n",
    "        x = Dense(extra_dense_nodes, activation= \"relu\")(x)\n",
    "        x = Dropout(dout)(x)\n",
    "    # output\n",
    "    outputs = Dense(NUM_CLASSES, activation= \"softmax\")(x)\n",
    "\n",
    "    model= Model(inputs=inputs, outputs= outputs)\n",
    "    if summary:\n",
    "        model.summary()\n",
    "    \n",
    "    return model"
   ]
  },
  {
   "cell_type": "markdown",
   "id": "d200e781",
   "metadata": {},
   "source": [
    "### CNN"
   ]
  },
  {
   "cell_type": "code",
   "execution_count": 7,
   "id": "6c6d3ac1",
   "metadata": {},
   "outputs": [],
   "source": [
    "def create_CNN_model(layers = 2, filters = [32, 64, 128], kernel_size= 3,\n",
    "                      embed_dim = 50, vocab_size = 259, summary= False):\n",
    "\n",
    "    model = Sequential()\n",
    "    model.add(Embedding(vocab_size+1, embed_dim))#, input_length = X_train_padded.shape[1]))\n",
    "    \n",
    "    for i in range(layers):\n",
    "        model.add(Conv1D(filters = filters[i], kernel_size = kernel_size, activation='relu'))\n",
    "        model.add(MaxPool1D(pool_size = 2, strides=2))\n",
    "\n",
    "    model.add(GlobalAveragePooling1D())\n",
    "    model.add(Dense(NUM_CLASSES, activation= 'softmax'))\n",
    "    if summary:\n",
    "        model.summary()\n",
    "    return model"
   ]
  },
  {
   "cell_type": "markdown",
   "id": "a16735c7",
   "metadata": {},
   "source": [
    "### Kmer method"
   ]
  },
  {
   "cell_type": "markdown",
   "id": "f27ca049",
   "metadata": {},
   "source": [
    "#### Loading the saved data"
   ]
  },
  {
   "cell_type": "code",
   "execution_count": 8,
   "id": "368a5d21",
   "metadata": {},
   "outputs": [
    {
     "data": {
      "text/plain": [
       "((1500, 30121), (1500,))"
      ]
     },
     "execution_count": 8,
     "metadata": {},
     "output_type": "execute_result"
    }
   ],
   "source": [
    "with open('X_train_k3.pkl', 'rb') as f:\n",
    "    X_train = pickle.load(f)\n",
    "with open('Y_train_k3.pkl', 'rb') as f:\n",
    "    Y_train = pickle.load(f)\n",
    "    \n",
    "X_train.shape, Y_train.shape"
   ]
  },
  {
   "cell_type": "code",
   "execution_count": 9,
   "id": "d554919b",
   "metadata": {},
   "outputs": [
    {
     "data": {
      "text/plain": [
       "((1090, 30121), (1090,))"
      ]
     },
     "execution_count": 9,
     "metadata": {},
     "output_type": "execute_result"
    }
   ],
   "source": [
    "with open('X_test_list_k3.pkl', 'rb') as f:\n",
    "    X_test = pickle.load(f)\n",
    "with open('Y_test_list_k3.pkl', 'rb') as f:\n",
    "    Y_test = pickle.load(f)\n",
    "\n",
    "X_test[0].shape, Y_test[0].shape    "
   ]
  },
  {
   "cell_type": "markdown",
   "id": "1d95cf66",
   "metadata": {},
   "source": [
    "#### Training helpers"
   ]
  },
  {
   "cell_type": "code",
   "execution_count": 10,
   "id": "2cb8ebdf",
   "metadata": {},
   "outputs": [],
   "source": [
    "model_names = ['transformer_cnn_k3_32f_4pool',\n",
    "            'transformer_cnn_k3_64f_4pool',\n",
    "            'transformer_cnn_k3_128f_4pool',\n",
    "            'cnn_k3_2layers']"
   ]
  },
  {
   "cell_type": "code",
   "execution_count": 11,
   "id": "341f9cb5",
   "metadata": {},
   "outputs": [],
   "source": [
    "lr_decay = tf.keras.callbacks.ReduceLROnPlateau(\n",
    "    monitor=\"val_loss\",\n",
    "    factor=0.5,\n",
    "    patience=5,\n",
    "    verbose= 1\n",
    "    )\n",
    "\n",
    "es = tf.keras.callbacks.EarlyStopping(\n",
    "    monitor=\"val_loss\",\n",
    "    verbose=1,\n",
    "    patience=5,\n",
    "    mode=\"auto\",\n",
    "    restore_best_weights=True,\n",
    ")\n",
    "\n",
    "adam_opt = tf.keras.optimizers.Adam(learning_rate= 3e-3)"
   ]
  },
  {
   "cell_type": "code",
   "execution_count": 12,
   "id": "92772731",
   "metadata": {},
   "outputs": [],
   "source": [
    "def evaluate_model(model, model_name):\n",
    "    test_indicies = [2,3,4,5,1]\n",
    "\n",
    "    model.load_weights(weight_address+model_name) # loads the best weight before evaluating\n",
    "    for i in range(5):\n",
    "        print('Test set {} F1 score:'.format(test_indicies[i]))\n",
    "        preds = np.argmax(model.predict(X_test[i], batch_size=4), axis = 1)\n",
    "        score = f1_score(Y_test[i], preds, average = 'weighted')\n",
    "        print(score)\n",
    "        with open(results_address+model_name+'_test_results.txt','a') as f:\n",
    "            f.write('Test set '+str(test_indicies[i])+' F1 score:')\n",
    "            f.write('\\n'+str(score))\n",
    "            f.write('\\n===\\n')"
   ]
  },
  {
   "cell_type": "code",
   "execution_count": 13,
   "id": "947a5b50",
   "metadata": {},
   "outputs": [],
   "source": [
    "def plot_history(history, model_name):\n",
    "    print('Highest train acc: {:.3f} epoch: {}\\nHighest val acc: {:.3f} epoch: {}'\\\n",
    "        .format(max(history.history['accuracy']), 1+np.argmax(np.array(history.history['accuracy'])),\n",
    "                max(history.history['val_accuracy']), 1+np.argmax(np.array(history.history['val_accuracy']))))\n",
    "\n",
    "    plt.title('Training history of '+ model_name)\n",
    "    plt.plot(history.history['accuracy'],'ro-')\n",
    "    plt.plot(history.history['val_accuracy'],'bx-')\n",
    "    plt.legend(['accuracy','val_accuracy'])\n",
    "    plt.savefig(results_address+model_name+'.png')\n",
    "    plt.show()"
   ]
  },
  {
   "cell_type": "code",
   "execution_count": 14,
   "id": "521252fd",
   "metadata": {},
   "outputs": [],
   "source": [
    "def make_checkpointer(model_name):\n",
    "    return tf.keras.callbacks.ModelCheckpoint(\n",
    "    weight_address + model_name, monitor='val_loss', verbose=0, save_best_only=True,\n",
    "    save_weights_only=True)"
   ]
  },
  {
   "cell_type": "code",
   "execution_count": 15,
   "id": "1190aff9",
   "metadata": {},
   "outputs": [],
   "source": [
    "metrics = ['accuracy']"
   ]
  },
  {
   "cell_type": "markdown",
   "id": "72b3e254",
   "metadata": {},
   "source": [
    "#### Training"
   ]
  },
  {
   "cell_type": "markdown",
   "id": "b2a1aadc",
   "metadata": {},
   "source": [
    "data with pool size smaller than 4 does not fit in my GPU"
   ]
  },
  {
   "cell_type": "code",
   "execution_count": 16,
   "id": "d989b9f0",
   "metadata": {},
   "outputs": [],
   "source": [
    "eps = 20"
   ]
  },
  {
   "cell_type": "code",
   "execution_count": 43,
   "id": "9009084d",
   "metadata": {},
   "outputs": [
    {
     "name": "stdout",
     "output_type": "stream",
     "text": [
      "transformer_cnn_k3_32f_4pool\n",
      "Epoch 1/20\n",
      "375/375 [==============================] - 92s 245ms/step - loss: 0.8892 - accuracy: 0.5807 - val_loss: 0.6242 - val_accuracy: 0.7248 - lr: 0.0030\n",
      "Epoch 2/20\n",
      "375/375 [==============================] - 91s 244ms/step - loss: 0.5927 - accuracy: 0.6727 - val_loss: 0.6545 - val_accuracy: 0.8028 - lr: 0.0030\n",
      "Epoch 3/20\n",
      "375/375 [==============================] - 92s 244ms/step - loss: 0.4341 - accuracy: 0.7720 - val_loss: 0.4142 - val_accuracy: 0.7945 - lr: 0.0030\n",
      "Epoch 4/20\n",
      "375/375 [==============================] - 92s 245ms/step - loss: 0.3417 - accuracy: 0.8060 - val_loss: 0.4278 - val_accuracy: 0.8670 - lr: 0.0030\n",
      "Epoch 5/20\n",
      "375/375 [==============================] - 92s 245ms/step - loss: 0.2987 - accuracy: 0.8467 - val_loss: 0.4101 - val_accuracy: 0.9202 - lr: 0.0030\n",
      "Epoch 6/20\n",
      "375/375 [==============================] - 92s 245ms/step - loss: 0.2939 - accuracy: 0.8827 - val_loss: 0.8633 - val_accuracy: 0.7688 - lr: 0.0030\n",
      "Epoch 7/20\n",
      "375/375 [==============================] - 92s 245ms/step - loss: 0.1990 - accuracy: 0.9253 - val_loss: 0.4451 - val_accuracy: 0.9138 - lr: 0.0030\n",
      "Epoch 8/20\n",
      "375/375 [==============================] - 92s 245ms/step - loss: 0.1506 - accuracy: 0.9467 - val_loss: 0.4653 - val_accuracy: 0.9073 - lr: 0.0030\n",
      "Epoch 9/20\n",
      "375/375 [==============================] - 92s 245ms/step - loss: 0.1181 - accuracy: 0.9580 - val_loss: 0.3266 - val_accuracy: 0.9321 - lr: 0.0030\n",
      "Epoch 10/20\n",
      "375/375 [==============================] - 92s 245ms/step - loss: 0.0882 - accuracy: 0.9687 - val_loss: 0.3571 - val_accuracy: 0.9798 - lr: 0.0030\n",
      "Epoch 11/20\n",
      "375/375 [==============================] - 92s 245ms/step - loss: 0.0920 - accuracy: 0.9687 - val_loss: 0.2414 - val_accuracy: 0.9752 - lr: 0.0030\n",
      "Epoch 12/20\n",
      "375/375 [==============================] - 92s 245ms/step - loss: 0.0618 - accuracy: 0.9813 - val_loss: 0.3569 - val_accuracy: 0.9550 - lr: 0.0030\n",
      "Epoch 13/20\n",
      "375/375 [==============================] - 92s 245ms/step - loss: 0.0449 - accuracy: 0.9867 - val_loss: 0.3287 - val_accuracy: 0.9807 - lr: 0.0030\n",
      "Epoch 14/20\n",
      "375/375 [==============================] - 92s 245ms/step - loss: 0.0580 - accuracy: 0.9773 - val_loss: 0.3893 - val_accuracy: 0.9468 - lr: 0.0030\n",
      "Epoch 15/20\n",
      "375/375 [==============================] - 92s 245ms/step - loss: 0.0433 - accuracy: 0.9853 - val_loss: 1.0794 - val_accuracy: 0.8716 - lr: 0.0030\n",
      "Epoch 16/20\n",
      "375/375 [==============================] - ETA: 0s - loss: 0.0508 - accuracy: 0.9833\n",
      "Epoch 00016: ReduceLROnPlateau reducing learning rate to 0.001500000013038516.\n",
      "375/375 [==============================] - 92s 245ms/step - loss: 0.0508 - accuracy: 0.9833 - val_loss: 0.8601 - val_accuracy: 0.8972 - lr: 0.0030\n",
      "Epoch 17/20\n",
      "375/375 [==============================] - 92s 245ms/step - loss: 0.0285 - accuracy: 0.9920 - val_loss: 0.9158 - val_accuracy: 0.8706 - lr: 0.0015\n",
      "Epoch 18/20\n",
      "375/375 [==============================] - 92s 245ms/step - loss: 0.0177 - accuracy: 0.9947 - val_loss: 0.7980 - val_accuracy: 0.8917 - lr: 0.0015\n",
      "Epoch 19/20\n",
      "375/375 [==============================] - 92s 245ms/step - loss: 0.0166 - accuracy: 0.9947 - val_loss: 0.6034 - val_accuracy: 0.9239 - lr: 0.0015\n",
      "Epoch 20/20\n",
      "375/375 [==============================] - 92s 245ms/step - loss: 0.0064 - accuracy: 0.9980 - val_loss: 0.5386 - val_accuracy: 0.9349 - lr: 0.0015\n",
      "Highest train acc: 0.998 epoch: 19\n",
      "Highest val acc: 0.981 epoch: 12\n"
     ]
    },
    {
     "data": {
      "image/png": "[encoded data removed]",
      "text/plain": [
       "<Figure size 432x288 with 1 Axes>"
      ]
     },
     "metadata": {
      "needs_background": "light"
     },
     "output_type": "display_data"
    },
    {
     "name": "stdout",
     "output_type": "stream",
     "text": [
      "Test set 2 F1 score:\n",
      "0.9751986427186882\n",
      "Test set 3 F1 score:\n",
      "0.9902582521030951\n",
      "Test set 4 F1 score:\n",
      "0.9945917627482705\n",
      "Test set 5 F1 score:\n",
      "0.9885778765600799\n",
      "Test set 1 F1 score:\n",
      "0.978563568443893\n"
     ]
    }
   ],
   "source": [
    "model_name = model_names[0]\n",
    "print(model_name)\n",
    "\n",
    "check_point = make_checkpointer(model_name)\n",
    "model = create_model_cnn_transformer(filters=32, pool_window=4)\n",
    "\n",
    "model.compile(optimizer= adam_opt, loss= \"sparse_categorical_crossentropy\", metrics= metrics)\n",
    "\n",
    "history = model.fit(X_train, Y_train,\n",
    "                    batch_size=4, epochs=eps,\n",
    "                    validation_data=(X_test[0], Y_test[0]),\n",
    "                    callbacks = [check_point, lr_decay])\n",
    "\n",
    "plot_history(history, model_name)\n",
    "evaluate_model(model, model_name)\n"
   ]
  },
  {
   "cell_type": "code",
   "execution_count": 44,
   "id": "5e9187e7",
   "metadata": {},
   "outputs": [
    {
     "name": "stdout",
     "output_type": "stream",
     "text": [
      "transformer_cnn_k3_64f_4pool\n",
      "Epoch 1/20\n",
      "375/375 [==============================] - 102s 270ms/step - loss: 1.2368 - accuracy: 0.4327 - val_loss: 0.8511 - val_accuracy: 0.7248 - lr: 0.0030\n",
      "Epoch 2/20\n",
      "375/375 [==============================] - 101s 268ms/step - loss: 0.8395 - accuracy: 0.6087 - val_loss: 0.7092 - val_accuracy: 0.7239 - lr: 0.0030\n",
      "Epoch 3/20\n",
      "375/375 [==============================] - 101s 268ms/step - loss: 0.7446 - accuracy: 0.6153 - val_loss: 0.6833 - val_accuracy: 0.7339 - lr: 0.0030\n",
      "Epoch 4/20\n",
      "375/375 [==============================] - 101s 268ms/step - loss: 0.6689 - accuracy: 0.6427 - val_loss: 0.7860 - val_accuracy: 0.6303 - lr: 0.0030\n",
      "Epoch 5/20\n",
      "375/375 [==============================] - 101s 269ms/step - loss: 0.6513 - accuracy: 0.6560 - val_loss: 0.8346 - val_accuracy: 0.7239 - lr: 0.0030\n",
      "Epoch 6/20\n",
      "375/375 [==============================] - 101s 269ms/step - loss: 0.6492 - accuracy: 0.6467 - val_loss: 0.8134 - val_accuracy: 0.7229 - lr: 0.0030\n",
      "Epoch 7/20\n",
      "375/375 [==============================] - 101s 269ms/step - loss: 0.6347 - accuracy: 0.6693 - val_loss: 0.8119 - val_accuracy: 0.8477 - lr: 0.0030\n",
      "Epoch 8/20\n",
      "375/375 [==============================] - 101s 269ms/step - loss: 0.6009 - accuracy: 0.7127 - val_loss: 0.6660 - val_accuracy: 0.7963 - lr: 0.0030\n",
      "Epoch 9/20\n",
      "375/375 [==============================] - 101s 269ms/step - loss: 0.4753 - accuracy: 0.7613 - val_loss: 0.6160 - val_accuracy: 0.9239 - lr: 0.0030\n",
      "Epoch 10/20\n",
      "375/375 [==============================] - 101s 269ms/step - loss: 0.4364 - accuracy: 0.7773 - val_loss: 0.5568 - val_accuracy: 0.8945 - lr: 0.0030\n",
      "Epoch 11/20\n",
      "375/375 [==============================] - 101s 269ms/step - loss: 0.4234 - accuracy: 0.7953 - val_loss: 0.5640 - val_accuracy: 0.8835 - lr: 0.0030\n",
      "Epoch 12/20\n",
      "375/375 [==============================] - 101s 269ms/step - loss: 0.3576 - accuracy: 0.8547 - val_loss: 0.5753 - val_accuracy: 0.9679 - lr: 0.0030\n",
      "Epoch 13/20\n",
      "375/375 [==============================] - 101s 269ms/step - loss: 0.3266 - accuracy: 0.8740 - val_loss: 0.5322 - val_accuracy: 0.9330 - lr: 0.0030\n",
      "Epoch 14/20\n",
      "375/375 [==============================] - 101s 269ms/step - loss: 0.3297 - accuracy: 0.8580 - val_loss: 0.5163 - val_accuracy: 0.9257 - lr: 0.0030\n",
      "Epoch 15/20\n",
      "375/375 [==============================] - 101s 269ms/step - loss: 0.3809 - accuracy: 0.8440 - val_loss: 0.6596 - val_accuracy: 0.8972 - lr: 0.0030\n",
      "Epoch 16/20\n",
      "375/375 [==============================] - 101s 269ms/step - loss: 0.2832 - accuracy: 0.8873 - val_loss: 0.6923 - val_accuracy: 0.9468 - lr: 0.0030\n",
      "Epoch 17/20\n",
      "375/375 [==============================] - 101s 269ms/step - loss: 0.2619 - accuracy: 0.8987 - val_loss: 0.7534 - val_accuracy: 0.8927 - lr: 0.0030\n",
      "Epoch 18/20\n",
      "375/375 [==============================] - 101s 269ms/step - loss: 0.2484 - accuracy: 0.9067 - val_loss: 0.7093 - val_accuracy: 0.9514 - lr: 0.0030\n",
      "Epoch 19/20\n",
      "375/375 [==============================] - ETA: 0s - loss: 0.2511 - accuracy: 0.9040\n",
      "Epoch 00019: ReduceLROnPlateau reducing learning rate to 0.001500000013038516.\n",
      "375/375 [==============================] - 101s 269ms/step - loss: 0.2511 - accuracy: 0.9040 - val_loss: 0.6627 - val_accuracy: 0.9661 - lr: 0.0030\n",
      "Epoch 20/20\n",
      "375/375 [==============================] - 101s 269ms/step - loss: 0.1610 - accuracy: 0.9400 - val_loss: 0.6667 - val_accuracy: 0.9367 - lr: 0.0015\n",
      "Highest train acc: 0.940 epoch: 19\n",
      "Highest val acc: 0.968 epoch: 11\n"
     ]
    },
    {
     "data": {
      "image/png": "[encoded data removed]",
      "text/plain": [
       "<Figure size 432x288 with 1 Axes>"
      ]
     },
     "metadata": {
      "needs_background": "light"
     },
     "output_type": "display_data"
    },
    {
     "name": "stdout",
     "output_type": "stream",
     "text": [
      "Test set 2 F1 score:\n",
      "0.919684662084589\n",
      "Test set 3 F1 score:\n",
      "0.9405898605980496\n",
      "Test set 4 F1 score:\n",
      "0.9241338494641917\n",
      "Test set 5 F1 score:\n",
      "0.9419528254280054\n",
      "Test set 1 F1 score:\n",
      "0.8451301391772945\n"
     ]
    }
   ],
   "source": [
    "model_name = model_names[1]\n",
    "print(model_name)\n",
    "check_point = make_checkpointer(model_name)\n",
    "\n",
    "\n",
    "model = create_model_cnn_transformer(filters=64, pool_window=4)\n",
    "\n",
    "model.compile(optimizer= adam_opt, loss= \"sparse_categorical_crossentropy\", metrics=metrics)\n",
    "\n",
    "history = model.fit(X_train, Y_train,\n",
    "                    batch_size=4, epochs=eps,\n",
    "                    validation_data=(X_test[0], Y_test[0]),\n",
    "                    callbacks = [check_point, lr_decay])\n",
    "\n",
    "plot_history(history, model_name)\n",
    "evaluate_model(model, model_name)"
   ]
  },
  {
   "cell_type": "code",
   "execution_count": 19,
   "id": "09c8f3f2",
   "metadata": {},
   "outputs": [
    {
     "name": "stdout",
     "output_type": "stream",
     "text": [
      "transformer_cnn_k3_128f_4pool\n",
      "Epoch 1/15\n"
     ]
    },
    {
     "name": "stderr",
     "output_type": "stream",
     "text": [
      "2022-02-25 18:30:21.329434: I tensorflow/stream_executor/cuda/cuda_dnn.cc:366] Loaded cuDNN version 8201\n",
      "2022-02-25 18:30:21.521296: W tensorflow/stream_executor/gpu/asm_compiler.cc:111] *** WARNING *** You are using ptxas 10.1.243, which is older than 11.1. ptxas before 11.1 is known to miscompile XLA code, leading to incorrect results or invalid-address errors.\n",
      "\n",
      "You may not need to update to CUDA 11.1; cherry-picking the ptxas binary is often sufficient.\n"
     ]
    },
    {
     "name": "stdout",
     "output_type": "stream",
     "text": [
      "375/375 [==============================] - 121s 318ms/step - loss: 1.1746 - accuracy: 0.4440 - val_loss: 0.7004 - val_accuracy: 0.7624 - lr: 0.0030\n",
      "Epoch 2/15\n",
      "375/375 [==============================] - 119s 317ms/step - loss: 0.7045 - accuracy: 0.6333 - val_loss: 0.7285 - val_accuracy: 0.6303 - lr: 0.0030\n",
      "Epoch 3/15\n",
      "375/375 [==============================] - 119s 317ms/step - loss: 0.5857 - accuracy: 0.7127 - val_loss: 0.4790 - val_accuracy: 0.9000 - lr: 0.0030\n",
      "Epoch 4/15\n",
      "375/375 [==============================] - 119s 317ms/step - loss: 0.5529 - accuracy: 0.7413 - val_loss: 0.6846 - val_accuracy: 0.7358 - lr: 0.0030\n",
      "Epoch 5/15\n",
      "375/375 [==============================] - 119s 316ms/step - loss: 0.5095 - accuracy: 0.7580 - val_loss: 0.4853 - val_accuracy: 0.8936 - lr: 0.0030\n",
      "Epoch 6/15\n",
      "375/375 [==============================] - 119s 316ms/step - loss: 0.4469 - accuracy: 0.7787 - val_loss: 0.4921 - val_accuracy: 0.8055 - lr: 0.0030\n",
      "Epoch 7/15\n",
      "375/375 [==============================] - 119s 316ms/step - loss: 0.4019 - accuracy: 0.7787 - val_loss: 0.5440 - val_accuracy: 0.8156 - lr: 0.0030\n",
      "Epoch 8/15\n",
      "375/375 [==============================] - ETA: 0s - loss: 0.3876 - accuracy: 0.7947\n",
      "Epoch 00008: ReduceLROnPlateau reducing learning rate to 0.001500000013038516.\n",
      "375/375 [==============================] - 119s 316ms/step - loss: 0.3876 - accuracy: 0.7947 - val_loss: 1.6579 - val_accuracy: 0.7248 - lr: 0.0030\n",
      "Epoch 9/15\n",
      "375/375 [==============================] - 118s 316ms/step - loss: 0.3947 - accuracy: 0.8020 - val_loss: 0.5271 - val_accuracy: 0.9156 - lr: 0.0015\n",
      "Epoch 10/15\n",
      "375/375 [==============================] - 119s 316ms/step - loss: 0.3426 - accuracy: 0.8267 - val_loss: 0.5702 - val_accuracy: 0.9083 - lr: 0.0015\n",
      "Epoch 11/15\n",
      "375/375 [==============================] - 119s 316ms/step - loss: 0.3408 - accuracy: 0.8153 - val_loss: 0.5875 - val_accuracy: 0.9147 - lr: 0.0015\n",
      "Epoch 12/15\n",
      "375/375 [==============================] - 119s 316ms/step - loss: 0.3216 - accuracy: 0.8440 - val_loss: 0.5993 - val_accuracy: 0.9431 - lr: 0.0015\n",
      "Epoch 13/15\n",
      "375/375 [==============================] - ETA: 0s - loss: 0.2813 - accuracy: 0.8693\n",
      "Epoch 00013: ReduceLROnPlateau reducing learning rate to 0.000750000006519258.\n",
      "375/375 [==============================] - 119s 316ms/step - loss: 0.2813 - accuracy: 0.8693 - val_loss: 0.6378 - val_accuracy: 0.9339 - lr: 0.0015\n",
      "Epoch 14/15\n",
      "375/375 [==============================] - 119s 316ms/step - loss: 0.2564 - accuracy: 0.8873 - val_loss: 0.6540 - val_accuracy: 0.9413 - lr: 7.5000e-04\n",
      "Epoch 15/15\n",
      "375/375 [==============================] - 119s 316ms/step - loss: 0.2516 - accuracy: 0.8873 - val_loss: 0.6413 - val_accuracy: 0.9670 - lr: 7.5000e-04\n",
      "Highest train acc: 0.887 epoch: 13\n",
      "Highest val acc: 0.967 epoch: 14\n"
     ]
    },
    {
     "data": {
      "image/png": "[encoded data removed]",
      "text/plain": [
       "<Figure size 432x288 with 1 Axes>"
      ]
     },
     "metadata": {
      "needs_background": "light"
     },
     "output_type": "display_data"
    },
    {
     "name": "stdout",
     "output_type": "stream",
     "text": [
      "Test set 2 F1 score:\n",
      "0.8666164338060677\n",
      "Test set 3 F1 score:\n",
      "0.9616046121776726\n",
      "Test set 4 F1 score:\n",
      "0.9693210152283223\n",
      "Test set 5 F1 score:\n",
      "0.9561821288042454\n",
      "Test set 1 F1 score:\n",
      "0.9519966347747435\n"
     ]
    }
   ],
   "source": [
    "model_name = model_names[2]\n",
    "print(model_name)\n",
    "check_point = make_checkpointer(model_name)\n",
    "\n",
    "\n",
    "model = create_model_cnn_transformer(filters=128, pool_window=4)\n",
    "\n",
    "model.compile(optimizer= adam_opt, loss= \"sparse_categorical_crossentropy\", metrics=['accuracy'])\n",
    "\n",
    "history = model.fit(X_train, Y_train,\n",
    "                    batch_size=4, epochs=15,\n",
    "                    validation_data=(X_test[0], Y_test[0]),\n",
    "                    callbacks = [check_point, lr_decay])\n",
    "\n",
    "plot_history(history, model_name)\n",
    "evaluate_model(model, model_name)"
   ]
  },
  {
   "cell_type": "code",
   "execution_count": 32,
   "id": "cbe67c3a",
   "metadata": {},
   "outputs": [
    {
     "name": "stdout",
     "output_type": "stream",
     "text": [
      "transformer_cnn_k3_128f_4pool\n",
      "Epoch 1/5\n",
      "WARNING:tensorflow:Unresolved object in checkpoint: (root).optimizer\n",
      "WARNING:tensorflow:Unresolved object in checkpoint: (root).optimizer.iter\n",
      "WARNING:tensorflow:Unresolved object in checkpoint: (root).optimizer.beta_1\n",
      "WARNING:tensorflow:Unresolved object in checkpoint: (root).optimizer.beta_2\n",
      "WARNING:tensorflow:Unresolved object in checkpoint: (root).optimizer.decay\n",
      "WARNING:tensorflow:Unresolved object in checkpoint: (root).optimizer.learning_rate\n",
      "WARNING:tensorflow:Unresolved object in checkpoint: (root).optimizer's state 'm' for (root).layer_with_weights-1.kernel\n",
      "WARNING:tensorflow:Unresolved object in checkpoint: (root).optimizer's state 'm' for (root).layer_with_weights-1.bias\n",
      "WARNING:tensorflow:Unresolved object in checkpoint: (root).optimizer's state 'm' for (root).layer_with_weights-3.kernel\n",
      "WARNING:tensorflow:Unresolved object in checkpoint: (root).optimizer's state 'm' for (root).layer_with_weights-3.bias\n",
      "WARNING:tensorflow:Unresolved object in checkpoint: (root).optimizer's state 'm' for (root).layer_with_weights-4.kernel\n",
      "WARNING:tensorflow:Unresolved object in checkpoint: (root).optimizer's state 'm' for (root).layer_with_weights-4.bias\n",
      "WARNING:tensorflow:Unresolved object in checkpoint: (root).optimizer's state 'm' for (root).layer_with_weights-0.token_emb.embeddings\n",
      "WARNING:tensorflow:Unresolved object in checkpoint: (root).optimizer's state 'm' for (root).layer_with_weights-2.layernorm1.gamma\n",
      "WARNING:tensorflow:Unresolved object in checkpoint: (root).optimizer's state 'm' for (root).layer_with_weights-2.layernorm1.beta\n",
      "WARNING:tensorflow:Unresolved object in checkpoint: (root).optimizer's state 'm' for (root).layer_with_weights-2.layernorm2.gamma\n",
      "WARNING:tensorflow:Unresolved object in checkpoint: (root).optimizer's state 'm' for (root).layer_with_weights-2.layernorm2.beta\n",
      "WARNING:tensorflow:Unresolved object in checkpoint: (root).optimizer's state 'm' for (root).layer_with_weights-2.att._query_dense.kernel\n",
      "WARNING:tensorflow:Unresolved object in checkpoint: (root).optimizer's state 'm' for (root).layer_with_weights-2.att._query_dense.bias\n",
      "WARNING:tensorflow:Unresolved object in checkpoint: (root).optimizer's state 'm' for (root).layer_with_weights-2.att._key_dense.kernel\n",
      "WARNING:tensorflow:Unresolved object in checkpoint: (root).optimizer's state 'm' for (root).layer_with_weights-2.att._key_dense.bias\n",
      "WARNING:tensorflow:Unresolved object in checkpoint: (root).optimizer's state 'm' for (root).layer_with_weights-2.att._value_dense.kernel\n",
      "WARNING:tensorflow:Unresolved object in checkpoint: (root).optimizer's state 'm' for (root).layer_with_weights-2.att._value_dense.bias\n",
      "WARNING:tensorflow:Unresolved object in checkpoint: (root).optimizer's state 'm' for (root).layer_with_weights-2.att._output_dense.kernel\n",
      "WARNING:tensorflow:Unresolved object in checkpoint: (root).optimizer's state 'm' for (root).layer_with_weights-2.att._output_dense.bias\n",
      "WARNING:tensorflow:Unresolved object in checkpoint: (root).optimizer's state 'm' for (root).layer_with_weights-2.ffn.layer_with_weights-0.kernel\n",
      "WARNING:tensorflow:Unresolved object in checkpoint: (root).optimizer's state 'm' for (root).layer_with_weights-2.ffn.layer_with_weights-0.bias\n",
      "WARNING:tensorflow:Unresolved object in checkpoint: (root).optimizer's state 'm' for (root).layer_with_weights-2.ffn.layer_with_weights-1.kernel\n",
      "WARNING:tensorflow:Unresolved object in checkpoint: (root).optimizer's state 'm' for (root).layer_with_weights-2.ffn.layer_with_weights-1.bias\n",
      "WARNING:tensorflow:Unresolved object in checkpoint: (root).optimizer's state 'v' for (root).layer_with_weights-1.kernel\n",
      "WARNING:tensorflow:Unresolved object in checkpoint: (root).optimizer's state 'v' for (root).layer_with_weights-1.bias\n",
      "WARNING:tensorflow:Unresolved object in checkpoint: (root).optimizer's state 'v' for (root).layer_with_weights-3.kernel\n",
      "WARNING:tensorflow:Unresolved object in checkpoint: (root).optimizer's state 'v' for (root).layer_with_weights-3.bias\n",
      "WARNING:tensorflow:Unresolved object in checkpoint: (root).optimizer's state 'v' for (root).layer_with_weights-4.kernel\n",
      "WARNING:tensorflow:Unresolved object in checkpoint: (root).optimizer's state 'v' for (root).layer_with_weights-4.bias\n",
      "WARNING:tensorflow:Unresolved object in checkpoint: (root).optimizer's state 'v' for (root).layer_with_weights-0.token_emb.embeddings\n",
      "WARNING:tensorflow:Unresolved object in checkpoint: (root).optimizer's state 'v' for (root).layer_with_weights-2.layernorm1.gamma\n",
      "WARNING:tensorflow:Unresolved object in checkpoint: (root).optimizer's state 'v' for (root).layer_with_weights-2.layernorm1.beta\n",
      "WARNING:tensorflow:Unresolved object in checkpoint: (root).optimizer's state 'v' for (root).layer_with_weights-2.layernorm2.gamma\n",
      "WARNING:tensorflow:Unresolved object in checkpoint: (root).optimizer's state 'v' for (root).layer_with_weights-2.layernorm2.beta\n",
      "WARNING:tensorflow:Unresolved object in checkpoint: (root).optimizer's state 'v' for (root).layer_with_weights-2.att._query_dense.kernel\n",
      "WARNING:tensorflow:Unresolved object in checkpoint: (root).optimizer's state 'v' for (root).layer_with_weights-2.att._query_dense.bias\n",
      "WARNING:tensorflow:Unresolved object in checkpoint: (root).optimizer's state 'v' for (root).layer_with_weights-2.att._key_dense.kernel\n",
      "WARNING:tensorflow:Unresolved object in checkpoint: (root).optimizer's state 'v' for (root).layer_with_weights-2.att._key_dense.bias\n",
      "WARNING:tensorflow:Unresolved object in checkpoint: (root).optimizer's state 'v' for (root).layer_with_weights-2.att._value_dense.kernel\n",
      "WARNING:tensorflow:Unresolved object in checkpoint: (root).optimizer's state 'v' for (root).layer_with_weights-2.att._value_dense.bias\n",
      "WARNING:tensorflow:Unresolved object in checkpoint: (root).optimizer's state 'v' for (root).layer_with_weights-2.att._output_dense.kernel\n",
      "WARNING:tensorflow:Unresolved object in checkpoint: (root).optimizer's state 'v' for (root).layer_with_weights-2.att._output_dense.bias\n",
      "WARNING:tensorflow:Unresolved object in checkpoint: (root).optimizer's state 'v' for (root).layer_with_weights-2.ffn.layer_with_weights-0.kernel\n",
      "WARNING:tensorflow:Unresolved object in checkpoint: (root).optimizer's state 'v' for (root).layer_with_weights-2.ffn.layer_with_weights-0.bias\n",
      "WARNING:tensorflow:Unresolved object in checkpoint: (root).optimizer's state 'v' for (root).layer_with_weights-2.ffn.layer_with_weights-1.kernel\n",
      "WARNING:tensorflow:Unresolved object in checkpoint: (root).optimizer's state 'v' for (root).layer_with_weights-2.ffn.layer_with_weights-1.bias\n",
      "WARNING:tensorflow:A checkpoint was restored (e.g. tf.train.Checkpoint.restore or tf.keras.Model.load_weights) but not all checkpointed values were used. See above for specific issues. Use expect_partial() on the load status object, e.g. tf.train.Checkpoint.restore(...).expect_partial(), to silence these warnings, or use assert_consumed() to make the check explicit. See https://www.tensorflow.org/guide/checkpoint#loading_mechanics for details.\n",
      "WARNING:tensorflow:Unresolved object in checkpoint: (root).optimizer\n",
      "WARNING:tensorflow:Unresolved object in checkpoint: (root).optimizer.iter\n",
      "WARNING:tensorflow:Unresolved object in checkpoint: (root).optimizer.beta_1\n",
      "WARNING:tensorflow:Unresolved object in checkpoint: (root).optimizer.beta_2\n",
      "WARNING:tensorflow:Unresolved object in checkpoint: (root).optimizer.decay\n",
      "WARNING:tensorflow:Unresolved object in checkpoint: (root).optimizer.learning_rate\n",
      "WARNING:tensorflow:Unresolved object in checkpoint: (root).optimizer's state 'm' for (root).layer_with_weights-1.kernel\n",
      "WARNING:tensorflow:Unresolved object in checkpoint: (root).optimizer's state 'm' for (root).layer_with_weights-1.bias\n",
      "WARNING:tensorflow:Unresolved object in checkpoint: (root).optimizer's state 'm' for (root).layer_with_weights-3.kernel\n",
      "WARNING:tensorflow:Unresolved object in checkpoint: (root).optimizer's state 'm' for (root).layer_with_weights-3.bias\n",
      "WARNING:tensorflow:Unresolved object in checkpoint: (root).optimizer's state 'm' for (root).layer_with_weights-4.kernel\n",
      "WARNING:tensorflow:Unresolved object in checkpoint: (root).optimizer's state 'm' for (root).layer_with_weights-4.bias\n",
      "WARNING:tensorflow:Unresolved object in checkpoint: (root).optimizer's state 'm' for (root).layer_with_weights-0.token_emb.embeddings\n",
      "WARNING:tensorflow:Unresolved object in checkpoint: (root).optimizer's state 'm' for (root).layer_with_weights-2.layernorm1.gamma\n",
      "WARNING:tensorflow:Unresolved object in checkpoint: (root).optimizer's state 'm' for (root).layer_with_weights-2.layernorm1.beta\n",
      "WARNING:tensorflow:Unresolved object in checkpoint: (root).optimizer's state 'm' for (root).layer_with_weights-2.layernorm2.gamma\n",
      "WARNING:tensorflow:Unresolved object in checkpoint: (root).optimizer's state 'm' for (root).layer_with_weights-2.layernorm2.beta\n",
      "WARNING:tensorflow:Unresolved object in checkpoint: (root).optimizer's state 'm' for (root).layer_with_weights-2.att._query_dense.kernel\n",
      "WARNING:tensorflow:Unresolved object in checkpoint: (root).optimizer's state 'm' for (root).layer_with_weights-2.att._query_dense.bias\n",
      "WARNING:tensorflow:Unresolved object in checkpoint: (root).optimizer's state 'm' for (root).layer_with_weights-2.att._key_dense.kernel\n",
      "WARNING:tensorflow:Unresolved object in checkpoint: (root).optimizer's state 'm' for (root).layer_with_weights-2.att._key_dense.bias\n",
      "WARNING:tensorflow:Unresolved object in checkpoint: (root).optimizer's state 'm' for (root).layer_with_weights-2.att._value_dense.kernel\n",
      "WARNING:tensorflow:Unresolved object in checkpoint: (root).optimizer's state 'm' for (root).layer_with_weights-2.att._value_dense.bias\n",
      "WARNING:tensorflow:Unresolved object in checkpoint: (root).optimizer's state 'm' for (root).layer_with_weights-2.att._output_dense.kernel\n",
      "WARNING:tensorflow:Unresolved object in checkpoint: (root).optimizer's state 'm' for (root).layer_with_weights-2.att._output_dense.bias\n",
      "WARNING:tensorflow:Unresolved object in checkpoint: (root).optimizer's state 'm' for (root).layer_with_weights-2.ffn.layer_with_weights-0.kernel\n",
      "WARNING:tensorflow:Unresolved object in checkpoint: (root).optimizer's state 'm' for (root).layer_with_weights-2.ffn.layer_with_weights-0.bias\n",
      "WARNING:tensorflow:Unresolved object in checkpoint: (root).optimizer's state 'm' for (root).layer_with_weights-2.ffn.layer_with_weights-1.kernel\n",
      "WARNING:tensorflow:Unresolved object in checkpoint: (root).optimizer's state 'm' for (root).layer_with_weights-2.ffn.layer_with_weights-1.bias\n",
      "WARNING:tensorflow:Unresolved object in checkpoint: (root).optimizer's state 'v' for (root).layer_with_weights-1.kernel\n",
      "WARNING:tensorflow:Unresolved object in checkpoint: (root).optimizer's state 'v' for (root).layer_with_weights-1.bias\n",
      "WARNING:tensorflow:Unresolved object in checkpoint: (root).optimizer's state 'v' for (root).layer_with_weights-3.kernel\n",
      "WARNING:tensorflow:Unresolved object in checkpoint: (root).optimizer's state 'v' for (root).layer_with_weights-3.bias\n",
      "WARNING:tensorflow:Unresolved object in checkpoint: (root).optimizer's state 'v' for (root).layer_with_weights-4.kernel\n",
      "WARNING:tensorflow:Unresolved object in checkpoint: (root).optimizer's state 'v' for (root).layer_with_weights-4.bias\n",
      "WARNING:tensorflow:Unresolved object in checkpoint: (root).optimizer's state 'v' for (root).layer_with_weights-0.token_emb.embeddings\n",
      "WARNING:tensorflow:Unresolved object in checkpoint: (root).optimizer's state 'v' for (root).layer_with_weights-2.layernorm1.gamma\n",
      "WARNING:tensorflow:Unresolved object in checkpoint: (root).optimizer's state 'v' for (root).layer_with_weights-2.layernorm1.beta\n",
      "WARNING:tensorflow:Unresolved object in checkpoint: (root).optimizer's state 'v' for (root).layer_with_weights-2.layernorm2.gamma\n",
      "WARNING:tensorflow:Unresolved object in checkpoint: (root).optimizer's state 'v' for (root).layer_with_weights-2.layernorm2.beta\n",
      "WARNING:tensorflow:Unresolved object in checkpoint: (root).optimizer's state 'v' for (root).layer_with_weights-2.att._query_dense.kernel\n",
      "WARNING:tensorflow:Unresolved object in checkpoint: (root).optimizer's state 'v' for (root).layer_with_weights-2.att._query_dense.bias\n",
      "WARNING:tensorflow:Unresolved object in checkpoint: (root).optimizer's state 'v' for (root).layer_with_weights-2.att._key_dense.kernel\n",
      "WARNING:tensorflow:Unresolved object in checkpoint: (root).optimizer's state 'v' for (root).layer_with_weights-2.att._key_dense.bias\n",
      "WARNING:tensorflow:Unresolved object in checkpoint: (root).optimizer's state 'v' for (root).layer_with_weights-2.att._value_dense.kernel\n",
      "WARNING:tensorflow:Unresolved object in checkpoint: (root).optimizer's state 'v' for (root).layer_with_weights-2.att._value_dense.bias\n",
      "WARNING:tensorflow:Unresolved object in checkpoint: (root).optimizer's state 'v' for (root).layer_with_weights-2.att._output_dense.kernel\n",
      "WARNING:tensorflow:Unresolved object in checkpoint: (root).optimizer's state 'v' for (root).layer_with_weights-2.att._output_dense.bias\n",
      "WARNING:tensorflow:Unresolved object in checkpoint: (root).optimizer's state 'v' for (root).layer_with_weights-2.ffn.layer_with_weights-0.kernel\n",
      "WARNING:tensorflow:Unresolved object in checkpoint: (root).optimizer's state 'v' for (root).layer_with_weights-2.ffn.layer_with_weights-0.bias\n",
      "WARNING:tensorflow:Unresolved object in checkpoint: (root).optimizer's state 'v' for (root).layer_with_weights-2.ffn.layer_with_weights-1.kernel\n",
      "WARNING:tensorflow:Unresolved object in checkpoint: (root).optimizer's state 'v' for (root).layer_with_weights-2.ffn.layer_with_weights-1.bias\n",
      "WARNING:tensorflow:A checkpoint was restored (e.g. tf.train.Checkpoint.restore or tf.keras.Model.load_weights) but not all checkpointed values were used. See above for specific issues. Use expect_partial() on the load status object, e.g. tf.train.Checkpoint.restore(...).expect_partial(), to silence these warnings, or use assert_consumed() to make the check explicit. See https://www.tensorflow.org/guide/checkpoint#loading_mechanics for details.\n",
      "WARNING:tensorflow:Unresolved object in checkpoint: (root).optimizer\n",
      "WARNING:tensorflow:Unresolved object in checkpoint: (root).optimizer.iter\n",
      "WARNING:tensorflow:Unresolved object in checkpoint: (root).optimizer.beta_1\n",
      "WARNING:tensorflow:Unresolved object in checkpoint: (root).optimizer.beta_2\n",
      "WARNING:tensorflow:Unresolved object in checkpoint: (root).optimizer.decay\n",
      "WARNING:tensorflow:Unresolved object in checkpoint: (root).optimizer.learning_rate\n",
      "WARNING:tensorflow:Unresolved object in checkpoint: (root).optimizer's state 'm' for (root).layer_with_weights-1.kernel\n",
      "WARNING:tensorflow:Unresolved object in checkpoint: (root).optimizer's state 'm' for (root).layer_with_weights-1.bias\n",
      "WARNING:tensorflow:Unresolved object in checkpoint: (root).optimizer's state 'm' for (root).layer_with_weights-3.kernel\n",
      "WARNING:tensorflow:Unresolved object in checkpoint: (root).optimizer's state 'm' for (root).layer_with_weights-3.bias\n",
      "WARNING:tensorflow:Unresolved object in checkpoint: (root).optimizer's state 'm' for (root).layer_with_weights-4.kernel\n",
      "WARNING:tensorflow:Unresolved object in checkpoint: (root).optimizer's state 'm' for (root).layer_with_weights-4.bias\n",
      "WARNING:tensorflow:Unresolved object in checkpoint: (root).optimizer's state 'm' for (root).layer_with_weights-0.token_emb.embeddings\n",
      "WARNING:tensorflow:Unresolved object in checkpoint: (root).optimizer's state 'm' for (root).layer_with_weights-2.layernorm1.gamma\n",
      "WARNING:tensorflow:Unresolved object in checkpoint: (root).optimizer's state 'm' for (root).layer_with_weights-2.layernorm1.beta\n",
      "WARNING:tensorflow:Unresolved object in checkpoint: (root).optimizer's state 'm' for (root).layer_with_weights-2.layernorm2.gamma\n",
      "WARNING:tensorflow:Unresolved object in checkpoint: (root).optimizer's state 'm' for (root).layer_with_weights-2.layernorm2.beta\n",
      "WARNING:tensorflow:Unresolved object in checkpoint: (root).optimizer's state 'm' for (root).layer_with_weights-2.att._query_dense.kernel\n",
      "WARNING:tensorflow:Unresolved object in checkpoint: (root).optimizer's state 'm' for (root).layer_with_weights-2.att._query_dense.bias\n",
      "WARNING:tensorflow:Unresolved object in checkpoint: (root).optimizer's state 'm' for (root).layer_with_weights-2.att._key_dense.kernel\n",
      "WARNING:tensorflow:Unresolved object in checkpoint: (root).optimizer's state 'm' for (root).layer_with_weights-2.att._key_dense.bias\n",
      "WARNING:tensorflow:Unresolved object in checkpoint: (root).optimizer's state 'm' for (root).layer_with_weights-2.att._value_dense.kernel\n",
      "WARNING:tensorflow:Unresolved object in checkpoint: (root).optimizer's state 'm' for (root).layer_with_weights-2.att._value_dense.bias\n",
      "WARNING:tensorflow:Unresolved object in checkpoint: (root).optimizer's state 'm' for (root).layer_with_weights-2.att._output_dense.kernel\n",
      "WARNING:tensorflow:Unresolved object in checkpoint: (root).optimizer's state 'm' for (root).layer_with_weights-2.att._output_dense.bias\n",
      "WARNING:tensorflow:Unresolved object in checkpoint: (root).optimizer's state 'm' for (root).layer_with_weights-2.ffn.layer_with_weights-0.kernel\n",
      "WARNING:tensorflow:Unresolved object in checkpoint: (root).optimizer's state 'm' for (root).layer_with_weights-2.ffn.layer_with_weights-0.bias\n",
      "WARNING:tensorflow:Unresolved object in checkpoint: (root).optimizer's state 'm' for (root).layer_with_weights-2.ffn.layer_with_weights-1.kernel\n",
      "WARNING:tensorflow:Unresolved object in checkpoint: (root).optimizer's state 'm' for (root).layer_with_weights-2.ffn.layer_with_weights-1.bias\n",
      "WARNING:tensorflow:Unresolved object in checkpoint: (root).optimizer's state 'v' for (root).layer_with_weights-1.kernel\n",
      "WARNING:tensorflow:Unresolved object in checkpoint: (root).optimizer's state 'v' for (root).layer_with_weights-1.bias\n",
      "WARNING:tensorflow:Unresolved object in checkpoint: (root).optimizer's state 'v' for (root).layer_with_weights-3.kernel\n",
      "WARNING:tensorflow:Unresolved object in checkpoint: (root).optimizer's state 'v' for (root).layer_with_weights-3.bias\n",
      "WARNING:tensorflow:Unresolved object in checkpoint: (root).optimizer's state 'v' for (root).layer_with_weights-4.kernel\n",
      "WARNING:tensorflow:Unresolved object in checkpoint: (root).optimizer's state 'v' for (root).layer_with_weights-4.bias\n",
      "WARNING:tensorflow:Unresolved object in checkpoint: (root).optimizer's state 'v' for (root).layer_with_weights-0.token_emb.embeddings\n",
      "WARNING:tensorflow:Unresolved object in checkpoint: (root).optimizer's state 'v' for (root).layer_with_weights-2.layernorm1.gamma\n",
      "WARNING:tensorflow:Unresolved object in checkpoint: (root).optimizer's state 'v' for (root).layer_with_weights-2.layernorm1.beta\n",
      "WARNING:tensorflow:Unresolved object in checkpoint: (root).optimizer's state 'v' for (root).layer_with_weights-2.layernorm2.gamma\n",
      "WARNING:tensorflow:Unresolved object in checkpoint: (root).optimizer's state 'v' for (root).layer_with_weights-2.layernorm2.beta\n",
      "WARNING:tensorflow:Unresolved object in checkpoint: (root).optimizer's state 'v' for (root).layer_with_weights-2.att._query_dense.kernel\n",
      "WARNING:tensorflow:Unresolved object in checkpoint: (root).optimizer's state 'v' for (root).layer_with_weights-2.att._query_dense.bias\n",
      "WARNING:tensorflow:Unresolved object in checkpoint: (root).optimizer's state 'v' for (root).layer_with_weights-2.att._key_dense.kernel\n",
      "WARNING:tensorflow:Unresolved object in checkpoint: (root).optimizer's state 'v' for (root).layer_with_weights-2.att._key_dense.bias\n",
      "WARNING:tensorflow:Unresolved object in checkpoint: (root).optimizer's state 'v' for (root).layer_with_weights-2.att._value_dense.kernel\n",
      "WARNING:tensorflow:Unresolved object in checkpoint: (root).optimizer's state 'v' for (root).layer_with_weights-2.att._value_dense.bias\n",
      "WARNING:tensorflow:Unresolved object in checkpoint: (root).optimizer's state 'v' for (root).layer_with_weights-2.att._output_dense.kernel\n",
      "WARNING:tensorflow:Unresolved object in checkpoint: (root).optimizer's state 'v' for (root).layer_with_weights-2.att._output_dense.bias\n",
      "WARNING:tensorflow:Unresolved object in checkpoint: (root).optimizer's state 'v' for (root).layer_with_weights-2.ffn.layer_with_weights-0.kernel\n",
      "WARNING:tensorflow:Unresolved object in checkpoint: (root).optimizer's state 'v' for (root).layer_with_weights-2.ffn.layer_with_weights-0.bias\n",
      "WARNING:tensorflow:Unresolved object in checkpoint: (root).optimizer's state 'v' for (root).layer_with_weights-2.ffn.layer_with_weights-1.kernel\n",
      "WARNING:tensorflow:Unresolved object in checkpoint: (root).optimizer's state 'v' for (root).layer_with_weights-2.ffn.layer_with_weights-1.bias\n",
      "WARNING:tensorflow:A checkpoint was restored (e.g. tf.train.Checkpoint.restore or tf.keras.Model.load_weights) but not all checkpointed values were used. See above for specific issues. Use expect_partial() on the load status object, e.g. tf.train.Checkpoint.restore(...).expect_partial(), to silence these warnings, or use assert_consumed() to make the check explicit. See https://www.tensorflow.org/guide/checkpoint#loading_mechanics for details.\n",
      "WARNING:tensorflow:Unresolved object in checkpoint: (root).optimizer.iter\n",
      "WARNING:tensorflow:Unresolved object in checkpoint: (root).optimizer.beta_1\n",
      "WARNING:tensorflow:Unresolved object in checkpoint: (root).optimizer.beta_2\n",
      "WARNING:tensorflow:Unresolved object in checkpoint: (root).optimizer.decay\n",
      "WARNING:tensorflow:Unresolved object in checkpoint: (root).optimizer.learning_rate\n",
      "WARNING:tensorflow:Unresolved object in checkpoint: (root).optimizer's state 'm' for (root).layer_with_weights-1.kernel\n",
      "WARNING:tensorflow:Unresolved object in checkpoint: (root).optimizer's state 'm' for (root).layer_with_weights-1.bias\n",
      "WARNING:tensorflow:Unresolved object in checkpoint: (root).optimizer's state 'm' for (root).layer_with_weights-3.kernel\n",
      "WARNING:tensorflow:Unresolved object in checkpoint: (root).optimizer's state 'm' for (root).layer_with_weights-3.bias\n",
      "WARNING:tensorflow:Unresolved object in checkpoint: (root).optimizer's state 'm' for (root).layer_with_weights-4.kernel\n",
      "WARNING:tensorflow:Unresolved object in checkpoint: (root).optimizer's state 'm' for (root).layer_with_weights-4.bias\n",
      "WARNING:tensorflow:Unresolved object in checkpoint: (root).optimizer's state 'm' for (root).layer_with_weights-0.token_emb.embeddings\n",
      "WARNING:tensorflow:Unresolved object in checkpoint: (root).optimizer's state 'm' for (root).layer_with_weights-2.layernorm1.gamma\n",
      "WARNING:tensorflow:Unresolved object in checkpoint: (root).optimizer's state 'm' for (root).layer_with_weights-2.layernorm1.beta\n",
      "WARNING:tensorflow:Unresolved object in checkpoint: (root).optimizer's state 'm' for (root).layer_with_weights-2.layernorm2.gamma\n",
      "WARNING:tensorflow:Unresolved object in checkpoint: (root).optimizer's state 'm' for (root).layer_with_weights-2.layernorm2.beta\n",
      "WARNING:tensorflow:Unresolved object in checkpoint: (root).optimizer's state 'm' for (root).layer_with_weights-2.att._query_dense.kernel\n",
      "WARNING:tensorflow:Unresolved object in checkpoint: (root).optimizer's state 'm' for (root).layer_with_weights-2.att._query_dense.bias\n",
      "WARNING:tensorflow:Unresolved object in checkpoint: (root).optimizer's state 'm' for (root).layer_with_weights-2.att._key_dense.kernel\n",
      "WARNING:tensorflow:Unresolved object in checkpoint: (root).optimizer's state 'm' for (root).layer_with_weights-2.att._key_dense.bias\n",
      "WARNING:tensorflow:Unresolved object in checkpoint: (root).optimizer's state 'm' for (root).layer_with_weights-2.att._value_dense.kernel\n",
      "WARNING:tensorflow:Unresolved object in checkpoint: (root).optimizer's state 'm' for (root).layer_with_weights-2.att._value_dense.bias\n",
      "WARNING:tensorflow:Unresolved object in checkpoint: (root).optimizer's state 'm' for (root).layer_with_weights-2.att._output_dense.kernel\n",
      "WARNING:tensorflow:Unresolved object in checkpoint: (root).optimizer's state 'm' for (root).layer_with_weights-2.att._output_dense.bias\n",
      "WARNING:tensorflow:Unresolved object in checkpoint: (root).optimizer's state 'm' for (root).layer_with_weights-2.ffn.layer_with_weights-0.kernel\n",
      "WARNING:tensorflow:Unresolved object in checkpoint: (root).optimizer's state 'm' for (root).layer_with_weights-2.ffn.layer_with_weights-0.bias\n",
      "WARNING:tensorflow:Unresolved object in checkpoint: (root).optimizer's state 'm' for (root).layer_with_weights-2.ffn.layer_with_weights-1.kernel\n",
      "WARNING:tensorflow:Unresolved object in checkpoint: (root).optimizer's state 'm' for (root).layer_with_weights-2.ffn.layer_with_weights-1.bias\n",
      "WARNING:tensorflow:Unresolved object in checkpoint: (root).optimizer's state 'v' for (root).layer_with_weights-1.kernel\n",
      "WARNING:tensorflow:Unresolved object in checkpoint: (root).optimizer's state 'v' for (root).layer_with_weights-1.bias\n",
      "WARNING:tensorflow:Unresolved object in checkpoint: (root).optimizer's state 'v' for (root).layer_with_weights-3.kernel\n",
      "WARNING:tensorflow:Unresolved object in checkpoint: (root).optimizer's state 'v' for (root).layer_with_weights-3.bias\n",
      "WARNING:tensorflow:Unresolved object in checkpoint: (root).optimizer's state 'v' for (root).layer_with_weights-4.kernel\n",
      "WARNING:tensorflow:Unresolved object in checkpoint: (root).optimizer's state 'v' for (root).layer_with_weights-4.bias\n",
      "WARNING:tensorflow:Unresolved object in checkpoint: (root).optimizer's state 'v' for (root).layer_with_weights-0.token_emb.embeddings\n",
      "WARNING:tensorflow:Unresolved object in checkpoint: (root).optimizer's state 'v' for (root).layer_with_weights-2.layernorm1.gamma\n",
      "WARNING:tensorflow:Unresolved object in checkpoint: (root).optimizer's state 'v' for (root).layer_with_weights-2.layernorm1.beta\n",
      "WARNING:tensorflow:Unresolved object in checkpoint: (root).optimizer's state 'v' for (root).layer_with_weights-2.layernorm2.gamma\n",
      "WARNING:tensorflow:Unresolved object in checkpoint: (root).optimizer's state 'v' for (root).layer_with_weights-2.layernorm2.beta\n",
      "WARNING:tensorflow:Unresolved object in checkpoint: (root).optimizer's state 'v' for (root).layer_with_weights-2.att._query_dense.kernel\n",
      "WARNING:tensorflow:Unresolved object in checkpoint: (root).optimizer's state 'v' for (root).layer_with_weights-2.att._query_dense.bias\n",
      "WARNING:tensorflow:Unresolved object in checkpoint: (root).optimizer's state 'v' for (root).layer_with_weights-2.att._key_dense.kernel\n",
      "WARNING:tensorflow:Unresolved object in checkpoint: (root).optimizer's state 'v' for (root).layer_with_weights-2.att._key_dense.bias\n",
      "WARNING:tensorflow:Unresolved object in checkpoint: (root).optimizer's state 'v' for (root).layer_with_weights-2.att._value_dense.kernel\n",
      "WARNING:tensorflow:Unresolved object in checkpoint: (root).optimizer's state 'v' for (root).layer_with_weights-2.att._value_dense.bias\n",
      "WARNING:tensorflow:Unresolved object in checkpoint: (root).optimizer's state 'v' for (root).layer_with_weights-2.att._output_dense.kernel\n",
      "WARNING:tensorflow:Unresolved object in checkpoint: (root).optimizer's state 'v' for (root).layer_with_weights-2.att._output_dense.bias\n",
      "WARNING:tensorflow:Unresolved object in checkpoint: (root).optimizer's state 'v' for (root).layer_with_weights-2.ffn.layer_with_weights-0.kernel\n",
      "WARNING:tensorflow:Unresolved object in checkpoint: (root).optimizer's state 'v' for (root).layer_with_weights-2.ffn.layer_with_weights-0.bias\n",
      "WARNING:tensorflow:Unresolved object in checkpoint: (root).optimizer's state 'v' for (root).layer_with_weights-2.ffn.layer_with_weights-1.kernel\n",
      "WARNING:tensorflow:Unresolved object in checkpoint: (root).optimizer's state 'v' for (root).layer_with_weights-2.ffn.layer_with_weights-1.bias\n",
      "WARNING:tensorflow:A checkpoint was restored (e.g. tf.train.Checkpoint.restore or tf.keras.Model.load_weights) but not all checkpointed values were used. See above for specific issues. Use expect_partial() on the load status object, e.g. tf.train.Checkpoint.restore(...).expect_partial(), to silence these warnings, or use assert_consumed() to make the check explicit. See https://www.tensorflow.org/guide/checkpoint#loading_mechanics for details.\n",
      "375/375 [==============================] - 118s 312ms/step - loss: 0.4523 - accuracy: 0.7873 - val_loss: 0.4611 - val_accuracy: 0.9670 - lr: 7.5000e-04\n",
      "Epoch 2/5\n",
      "375/375 [==============================] - 117s 312ms/step - loss: 0.4212 - accuracy: 0.8213 - val_loss: 0.4531 - val_accuracy: 0.9578 - lr: 7.5000e-04\n",
      "Epoch 3/5\n",
      "375/375 [==============================] - 117s 312ms/step - loss: 0.4061 - accuracy: 0.8300 - val_loss: 0.4780 - val_accuracy: 0.9495 - lr: 7.5000e-04\n",
      "Epoch 4/5\n",
      "375/375 [==============================] - 117s 312ms/step - loss: 0.3816 - accuracy: 0.8327 - val_loss: 0.4956 - val_accuracy: 0.9147 - lr: 7.5000e-04\n",
      "Epoch 5/5\n",
      "375/375 [==============================] - 117s 312ms/step - loss: 0.3872 - accuracy: 0.8227 - val_loss: 0.5270 - val_accuracy: 0.9697 - lr: 7.5000e-04\n",
      "Highest train acc: 0.833 epoch: 3\n",
      "Highest val acc: 0.970 epoch: 4\n"
     ]
    },
    {
     "data": {
      "image/png": "[encoded data removed]",
      "text/plain": [
       "<Figure size 432x288 with 1 Axes>"
      ]
     },
     "metadata": {
      "needs_background": "light"
     },
     "output_type": "display_data"
    },
    {
     "name": "stdout",
     "output_type": "stream",
     "text": [
      "Test set 2 F1 score:\n",
      "0.9589793937201796\n",
      "Test set 3 F1 score:\n",
      "0.9495300090664044\n",
      "Test set 4 F1 score:\n",
      "0.9569460290468971\n",
      "Test set 5 F1 score:\n",
      "0.960148959401414\n",
      "Test set 1 F1 score:\n",
      "0.9272750530959003\n"
     ]
    }
   ],
   "source": [
    "# training the model for 5 extra epochs\n",
    "model_name = model_names[2]\n",
    "print(model_name)\n",
    "\n",
    "check_point = make_checkpointer(model_name)\n",
    "\n",
    "model = create_model_cnn_transformer(cnn_filters=128, pool_window=4)\n",
    "model.load_weights(weight_address+model_names[2]) \n",
    "model.compile(optimizer= tf.keras.optimizers.Adam(3e-3),\n",
    " loss= \"sparse_categorical_crossentropy\", metrics=['accuracy'])\n",
    "\n",
    "K.set_value(model.optimizer.learning_rate, 7.5e-4)\n",
    "\n",
    "history = model.fit(X_train, Y_train,\n",
    "                    batch_size=4, epochs=5,\n",
    "                    validation_data=(X_test[0], Y_test[0]),\n",
    "                    callbacks = [check_point, lr_decay])\n",
    "\n",
    "plot_history(history,  model_names[2]+'_eps_15-20')\n",
    "evaluate_model(model, model_name)\n"
   ]
  },
  {
   "cell_type": "code",
   "execution_count": 34,
   "id": "d8220efe",
   "metadata": {},
   "outputs": [
    {
     "name": "stdout",
     "output_type": "stream",
     "text": [
      "cnn_k3_2layers\n",
      "Epoch 1/20\n",
      "375/375 [==============================] - 30s 78ms/step - loss: 0.6207 - accuracy: 0.7147 - val_loss: 2.3382 - val_accuracy: 0.9009 - lr: 0.0030\n",
      "Epoch 2/20\n",
      "375/375 [==============================] - 29s 78ms/step - loss: 0.3748 - accuracy: 0.8780 - val_loss: 2.0808 - val_accuracy: 0.9651 - lr: 0.0030\n",
      "Epoch 3/20\n",
      "375/375 [==============================] - 30s 80ms/step - loss: 0.1831 - accuracy: 0.9780 - val_loss: 1.6423 - val_accuracy: 0.9862 - lr: 0.0030\n",
      "Epoch 4/20\n",
      "375/375 [==============================] - 30s 79ms/step - loss: 0.0795 - accuracy: 0.9840 - val_loss: 1.2478 - val_accuracy: 0.9890 - lr: 0.0030\n",
      "Epoch 5/20\n",
      "375/375 [==============================] - 30s 79ms/step - loss: 0.0625 - accuracy: 0.9847 - val_loss: 0.9849 - val_accuracy: 0.9881 - lr: 0.0030\n",
      "Epoch 6/20\n",
      "375/375 [==============================] - 30s 79ms/step - loss: 0.0271 - accuracy: 0.9920 - val_loss: 0.8256 - val_accuracy: 0.9890 - lr: 0.0030\n",
      "Epoch 7/20\n",
      "375/375 [==============================] - 30s 79ms/step - loss: 0.0186 - accuracy: 0.9960 - val_loss: 0.7376 - val_accuracy: 0.9890 - lr: 0.0030\n",
      "Epoch 8/20\n",
      "375/375 [==============================] - 30s 79ms/step - loss: 0.0122 - accuracy: 0.9960 - val_loss: 0.7660 - val_accuracy: 0.9890 - lr: 0.0030\n",
      "Epoch 9/20\n",
      "375/375 [==============================] - 29s 78ms/step - loss: 0.0160 - accuracy: 0.9967 - val_loss: 0.7920 - val_accuracy: 0.9890 - lr: 0.0030\n",
      "Epoch 10/20\n",
      "375/375 [==============================] - 29s 78ms/step - loss: 0.0524 - accuracy: 0.9907 - val_loss: 0.6620 - val_accuracy: 0.9890 - lr: 0.0030\n",
      "Epoch 11/20\n",
      "375/375 [==============================] - 30s 80ms/step - loss: 0.0131 - accuracy: 0.9967 - val_loss: 0.6387 - val_accuracy: 0.9890 - lr: 0.0030\n",
      "Epoch 12/20\n",
      "375/375 [==============================] - 30s 79ms/step - loss: 0.0109 - accuracy: 0.9973 - val_loss: 0.7609 - val_accuracy: 0.9890 - lr: 0.0030\n",
      "Epoch 13/20\n",
      "375/375 [==============================] - 29s 78ms/step - loss: 0.0296 - accuracy: 0.9940 - val_loss: 0.6952 - val_accuracy: 0.9890 - lr: 0.0030\n",
      "Epoch 14/20\n",
      "375/375 [==============================] - 29s 78ms/step - loss: 0.0165 - accuracy: 0.9960 - val_loss: 0.6453 - val_accuracy: 0.9890 - lr: 0.0030\n",
      "Epoch 15/20\n",
      "375/375 [==============================] - 29s 78ms/step - loss: 0.0085 - accuracy: 0.9973 - val_loss: 0.5143 - val_accuracy: 0.9908 - lr: 0.0030\n",
      "Epoch 16/20\n",
      "375/375 [==============================] - 30s 80ms/step - loss: 0.0136 - accuracy: 0.9973 - val_loss: 0.6544 - val_accuracy: 0.9890 - lr: 0.0030\n",
      "Epoch 17/20\n",
      "375/375 [==============================] - 29s 78ms/step - loss: 0.0285 - accuracy: 0.9967 - val_loss: 0.6746 - val_accuracy: 0.9890 - lr: 0.0030\n",
      "Epoch 18/20\n",
      "375/375 [==============================] - 29s 78ms/step - loss: 0.0109 - accuracy: 0.9987 - val_loss: 0.5562 - val_accuracy: 0.9890 - lr: 0.0030\n",
      "Epoch 19/20\n",
      "375/375 [==============================] - 29s 78ms/step - loss: 0.0586 - accuracy: 0.9833 - val_loss: 0.5300 - val_accuracy: 0.9890 - lr: 0.0030\n",
      "Epoch 20/20\n",
      "375/375 [==============================] - ETA: 0s - loss: 0.0047 - accuracy: 0.9987\n",
      "Epoch 00020: ReduceLROnPlateau reducing learning rate to 0.001500000013038516.\n",
      "375/375 [==============================] - 29s 78ms/step - loss: 0.0047 - accuracy: 0.9987 - val_loss: 0.7114 - val_accuracy: 0.9890 - lr: 0.0030\n",
      "Highest train acc: 0.999 epoch: 18\n",
      "Highest val acc: 0.991 epoch: 15\n"
     ]
    },
    {
     "data": {
      "image/png": "[encoded data removed]",
      "text/plain": [
       "<Figure size 432x288 with 1 Axes>"
      ]
     },
     "metadata": {
      "needs_background": "light"
     },
     "output_type": "display_data"
    }
   ],
   "source": [
    "model_name = model_names[3]\n",
    "print(model_name)\n",
    "\n",
    "check_point = make_checkpointer(model_name)\n",
    "model = create_CNN_model(layers=2, kernel_size=3)\n",
    "\n",
    "model.compile(optimizer= adam_opt, loss= \"sparse_categorical_crossentropy\", metrics= metrics)\n",
    "\n",
    "history = model.fit(X_train, Y_train,\n",
    "                    batch_size=4, epochs=eps,\n",
    "                    validation_data=(X_test[0], Y_test[0]),\n",
    "                    callbacks = [check_point, lr_decay])\n",
    "\n",
    "plot_history(history, model_name)"
   ]
  },
  {
   "cell_type": "code",
   "execution_count": 36,
   "id": "01b002eb",
   "metadata": {},
   "outputs": [
    {
     "name": "stdout",
     "output_type": "stream",
     "text": [
      "Test set 2 F1 score:\n",
      "0.9908199505424835\n",
      "Test set 3 F1 score:\n",
      "0.997254182079883\n",
      "Test set 4 F1 score:\n",
      "0.9980058024540488\n",
      "Test set 5 F1 score:\n",
      "0.9968615292808549\n",
      "Test set 1 F1 score:\n",
      "0.999680747563294\n"
     ]
    }
   ],
   "source": [
    "evaluate_model(model, model_name)"
   ]
  },
  {
   "cell_type": "code",
   "execution_count": 21,
   "id": "a97941ac",
   "metadata": {},
   "outputs": [
    {
     "name": "stderr",
     "output_type": "stream",
     "text": [
      "2022-04-04 00:34:34.788604: I tensorflow/stream_executor/cuda/cuda_dnn.cc:366] Loaded cuDNN version 8201\n",
      "2022-04-04 00:34:35.033793: W tensorflow/stream_executor/gpu/asm_compiler.cc:111] *** WARNING *** You are using ptxas 10.1.243, which is older than 11.1. ptxas before 11.1 is known to miscompile XLA code, leading to incorrect results or invalid-address errors.\n",
      "\n",
      "You may not need to update to CUDA 11.1; cherry-picking the ptxas binary is often sufficient.\n"
     ]
    },
    {
     "data": {
      "image/png": "[encoded data removed]",
      "text/plain": [
       "<Figure size 288x288 with 1 Axes>"
      ]
     },
     "metadata": {
      "needs_background": "light"
     },
     "output_type": "display_data"
    }
   ],
   "source": [
    "from sklearn.metrics import confusion_matrix\n",
    "from mlxtend.plotting import plot_confusion_matrix\n",
    "\n",
    "t = 0\n",
    "predictions = model.predict(X_test[t])\n",
    "predictions = np.argmax(predictions, axis = -1)\n",
    "labels = Y_test[t]\n",
    "\n",
    "cm  = confusion_matrix(labels, predictions)\n",
    "plot_confusion_matrix(cm,figsize=(4,4), hide_ticks=True, cmap=plt.cm.Blues)\n",
    "plt.xticks(range(NUM_CLASSES), [i+1 for i in range(NUM_CLASSES)], fontsize=12)\n",
    "plt.yticks(range(NUM_CLASSES), [i+1 for i in range(NUM_CLASSES)], fontsize=12)\n",
    "plt.show()"
   ]
  }
 ],
 "metadata": {
  "kernelspec": {
   "display_name": "Python 3 (ipykernel)",
   "language": "python",
   "name": "python3"
  },
  "language_info": {
   "codemirror_mode": {
    "name": "ipython",
    "version": 3
   },
   "file_extension": ".py",
   "mimetype": "text/x-python",
   "name": "python",
   "nbconvert_exporter": "python",
   "pygments_lexer": "ipython3",
   "version": "3.8.12"
  }
 },
 "nbformat": 4,
 "nbformat_minor": 5
}
