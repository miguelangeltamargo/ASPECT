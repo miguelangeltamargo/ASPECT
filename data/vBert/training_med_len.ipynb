{
 "cells": [
  {
   "cell_type": "code",
   "execution_count": 6,
   "id": "551814aa",
   "metadata": {},
   "outputs": [],
   "source": [
    "import numpy as np\n",
    "import pickle\n",
    "import matplotlib.pyplot as plt\n",
    "from sklearn.metrics import f1_score"
   ]
  },
  {
   "cell_type": "code",
   "execution_count": 7,
   "id": "da637366",
   "metadata": {},
   "outputs": [
    {
     "name": "stderr",
     "output_type": "stream",
     "text": [
      "2022-04-03 23:49:49.014633: I tensorflow/stream_executor/cuda/cuda_gpu_executor.cc:939] successful NUMA node read from SysFS had negative value (-1), but there must be at least one NUMA node, so returning NUMA node zero\n",
      "2022-04-03 23:49:49.019143: I tensorflow/stream_executor/cuda/cuda_gpu_executor.cc:939] successful NUMA node read from SysFS had negative value (-1), but there must be at least one NUMA node, so returning NUMA node zero\n",
      "2022-04-03 23:49:49.019593: I tensorflow/stream_executor/cuda/cuda_gpu_executor.cc:939] successful NUMA node read from SysFS had negative value (-1), but there must be at least one NUMA node, so returning NUMA node zero\n"
     ]
    }
   ],
   "source": [
    "import tensorflow as tf\n",
    "from tensorflow.keras import backend as K\n",
    "from tensorflow.keras.layers import Conv1D,Dense, GlobalAveragePooling1D, Embedding, MultiHeadAttention\n",
    "from tensorflow.keras.layers import MaxPool1D, Dropout, LayerNormalization, MaxPooling1D, Input\n",
    "from tensorflow.keras.models import Sequential, Model\n",
    "from tensorflow.keras.optimizers import Adam\n",
    "\n",
    "gpu_devices = tf.config.experimental.list_physical_devices('GPU')\n",
    "for device in gpu_devices:\n",
    "    tf.config.experimental.set_memory_growth(device, True)"
   ]
  },
  {
   "cell_type": "code",
   "execution_count": 9,
   "id": "634c5f14",
   "metadata": {},
   "outputs": [],
   "source": [
    "weight_address = 'weights2/'\n",
    "results_address = 'results2/'\n",
    "NUM_CLASSES = 6"
   ]
  },
  {
   "cell_type": "markdown",
   "id": "21e8b950",
   "metadata": {},
   "source": [
    "### The networks"
   ]
  },
  {
   "cell_type": "markdown",
   "id": "9ebe5589",
   "metadata": {},
   "source": [
    "#### Transformer"
   ]
  },
  {
   "cell_type": "code",
   "execution_count": 10,
   "id": "be5abb89",
   "metadata": {},
   "outputs": [],
   "source": [
    "class TokenAndPositionEmbedding(tf.keras.layers.Layer):\n",
    "    def __init__(self, maxlen, vocab_size, embed_dim):\n",
    "        super(TokenAndPositionEmbedding, self).__init__()\n",
    "        self.embed_dim = embed_dim\n",
    "        self.token_emb = Embedding(input_dim= vocab_size, output_dim= embed_dim)\n",
    "        self.maxlen = maxlen\n",
    "\n",
    "    def get_angles(self, pos, i, embd_dim):\n",
    "        angle_rates = 1 / np.power(10000, (2 * (i//2)) / np.float32(embd_dim))\n",
    "        return pos * angle_rates\n",
    "\n",
    "    def positional_encoding(self, max_pos_enc, embd_dim):\n",
    "        angle_rads = self.get_angles(np.arange(max_pos_enc)[:, np.newaxis],\n",
    "                                np.arange(embd_dim)[np.newaxis, :],\n",
    "                                embd_dim)\n",
    "\n",
    "        # apply sin to even indices in the array; 2i\n",
    "        angle_rads[:, 0::2] = np.sin(angle_rads[:, 0::2])\n",
    "\n",
    "        # apply cos to odd indices in the array; 2i+1\n",
    "        angle_rads[:, 1::2] = np.cos(angle_rads[:, 1::2])\n",
    "\n",
    "        pos_encoding = angle_rads[np.newaxis, ...]\n",
    "\n",
    "        return tf.cast(pos_encoding, dtype=tf.float32)\n",
    "\n",
    "    def call(self, x):\n",
    "        positions = self.positional_encoding(max_pos_enc= self.maxlen, embd_dim= self.embed_dim)\n",
    "        x = self.token_emb(x)\n",
    "        return x + positions"
   ]
  },
  {
   "cell_type": "code",
   "execution_count": 11,
   "id": "78a66e7c",
   "metadata": {},
   "outputs": [],
   "source": [
    "class TransformerBlock(tf.keras.layers.Layer):\n",
    "    def __init__(self, embed_dim, num_heads, ff_dim, rate=0.1):\n",
    "        super(TransformerBlock, self).__init__()\n",
    "        self.att = MultiHeadAttention(num_heads= num_heads, key_dim= embed_dim)\n",
    "        self.ffn = tf.keras.Sequential(\n",
    "            [Dense(ff_dim, activation=\"relu\"), Dense(embed_dim),]\n",
    "        )\n",
    "        self.layernorm1 = LayerNormalization(epsilon=1e-6)\n",
    "        self.layernorm2 = LayerNormalization(epsilon=1e-6)\n",
    "        self.dropout1 = Dropout(rate)\n",
    "        self.dropout2 = Dropout(rate)\n",
    "\n",
    "    def call(self, inputs, training):\n",
    "        attn_output = self.att(inputs, inputs)\n",
    "        attn_output = self.dropout1(attn_output, training=training)\n",
    "        out1 = self.layernorm1(inputs + attn_output)\n",
    "        ffn_output = self.ffn(out1)\n",
    "        ffn_output = self.dropout2(ffn_output, training=training)\n",
    "        return self.layernorm2(out1 + ffn_output)"
   ]
  },
  {
   "cell_type": "markdown",
   "id": "547fc7cc",
   "metadata": {},
   "source": [
    "### Transformer and CNN"
   ]
  },
  {
   "cell_type": "code",
   "execution_count": 12,
   "id": "5d7d7a84",
   "metadata": {},
   "outputs": [],
   "source": [
    "@tf.autograph.experimental.do_not_convert # added to silence a warning related to TF\n",
    "def create_model_cnn_transformer(maxlen = 30121, vocab_size = 259,\n",
    "                                embed_dim = 50, num_heads = 2, \n",
    "                                ff_dim = 16, dout = 0.1,\n",
    "                                filters = 64, kernel_size = 3, \n",
    "                                pool_window = 2, extra_dense_nodes = 20, \n",
    "                                max_pool = True, summary = True):\n",
    "    '''\n",
    "    embed_dim - Embedding size for each token\n",
    "    num_heads - Number of attention heads\n",
    "    ff_dim - Hidden layer size in feed forward network inside transformer\n",
    "    '''\n",
    "    # input\n",
    "    inputs = Input(shape=(maxlen,))\n",
    "    # embeddding\n",
    "    embedding_layer = TokenAndPositionEmbedding(inputs.shape[1], vocab_size, embed_dim)\n",
    "    x = embedding_layer(inputs)\n",
    "    # convolution\n",
    "    x = Conv1D(filters= filters, kernel_size= kernel_size)(x)\n",
    "    if max_pool == True:\n",
    "        x = MaxPooling1D(pool_size= pool_window)(x)\n",
    "   \n",
    "    # transformer\n",
    "    transformer_block = TransformerBlock(filters, num_heads, ff_dim)\n",
    "    x = transformer_block(x)\n",
    "    # extra dense layers\n",
    "    x = GlobalAveragePooling1D()(x)\n",
    "    if extra_dense_nodes!= 0:\n",
    "        x = Dense(extra_dense_nodes, activation= \"relu\")(x)\n",
    "        x = Dropout(dout)(x)\n",
    "    \n",
    "    # output\n",
    "    outputs = Dense(NUM_CLASSES, activation= \"softmax\")(x)\n",
    "\n",
    "    model= Model(inputs=inputs, outputs= outputs)\n",
    "    if summary:\n",
    "        model.summary()\n",
    "    \n",
    "    return model"
   ]
  },
  {
   "cell_type": "markdown",
   "id": "d200e781",
   "metadata": {},
   "source": [
    "### CNN"
   ]
  },
  {
   "cell_type": "code",
   "execution_count": 13,
   "id": "6c6d3ac1",
   "metadata": {},
   "outputs": [],
   "source": [
    "def create_CNN_model(layers = 2, filters = [32, 64, 128], kernel_size= 3,\n",
    "                      embed_dim = 50, vocab_size = 259, summary= False):\n",
    "\n",
    "    model = Sequential()\n",
    "    model.add(Embedding(vocab_size+1, embed_dim))#, input_length = X_train_padded.shape[1]))\n",
    "    \n",
    "    for i in range(layers):\n",
    "        model.add(Conv1D(filters = filters[i], kernel_size = kernel_size, activation='relu'))\n",
    "        model.add(MaxPool1D(pool_size = 2, strides=2))\n",
    "\n",
    "    model.add(GlobalAveragePooling1D())\n",
    "    model.add(Dense(NUM_CLASSES, activation= 'softmax'))\n",
    "    if summary:\n",
    "        model.summary()\n",
    "    return model"
   ]
  },
  {
   "cell_type": "markdown",
   "id": "a16735c7",
   "metadata": {},
   "source": [
    "### Kmer method"
   ]
  },
  {
   "cell_type": "markdown",
   "id": "f27ca049",
   "metadata": {},
   "source": [
    "#### Loading the saved data"
   ]
  },
  {
   "cell_type": "code",
   "execution_count": 14,
   "id": "368a5d21",
   "metadata": {},
   "outputs": [
    {
     "data": {
      "text/plain": [
       "((1500, 20557), (1500,))"
      ]
     },
     "execution_count": 14,
     "metadata": {},
     "output_type": "execute_result"
    }
   ],
   "source": [
    "with open('X_train_k3_med.pkl', 'rb') as f:\n",
    "    X_train = pickle.load(f)\n",
    "with open('Y_train_k3.pkl', 'rb') as f:\n",
    "    Y_train = pickle.load(f)\n",
    "    \n",
    "X_train.shape, Y_train.shape"
   ]
  },
  {
   "cell_type": "code",
   "execution_count": 15,
   "id": "80480e71",
   "metadata": {},
   "outputs": [
    {
     "data": {
      "text/plain": [
       "20557"
      ]
     },
     "execution_count": 15,
     "metadata": {},
     "output_type": "execute_result"
    }
   ],
   "source": [
    "MAXLEN = X_train.shape[1]\n",
    "MAXLEN"
   ]
  },
  {
   "cell_type": "code",
   "execution_count": 16,
   "id": "d554919b",
   "metadata": {},
   "outputs": [
    {
     "data": {
      "text/plain": [
       "((1090, 20557), (1090,))"
      ]
     },
     "execution_count": 16,
     "metadata": {},
     "output_type": "execute_result"
    }
   ],
   "source": [
    "with open('X_test_list_k3_med.pkl', 'rb') as f:\n",
    "    X_test = pickle.load(f)\n",
    "with open('Y_test_list_k3.pkl', 'rb') as f:\n",
    "    Y_test = pickle.load(f)\n",
    "\n",
    "X_test[0].shape, Y_test[0].shape    "
   ]
  },
  {
   "cell_type": "markdown",
   "id": "1d95cf66",
   "metadata": {},
   "source": [
    "#### Training helpers"
   ]
  },
  {
   "cell_type": "code",
   "execution_count": 17,
   "id": "2cb8ebdf",
   "metadata": {},
   "outputs": [],
   "source": [
    "model_names = ['transformer_cnn_k3_32f_4pool',\n",
    "            'transformer_cnn_k3_64f_4pool',\n",
    "            'transformer_cnn_k3_128f_4pool',\n",
    "            'cnn_k3_2layers']"
   ]
  },
  {
   "cell_type": "code",
   "execution_count": 47,
   "id": "341f9cb5",
   "metadata": {},
   "outputs": [],
   "source": [
    "lr_decay = tf.keras.callbacks.ReduceLROnPlateau(\n",
    "    monitor=\"val_loss\",\n",
    "    factor=0.5,\n",
    "    patience=5,\n",
    "    verbose= 1\n",
    "    )\n",
    "\n",
    "es = tf.keras.callbacks.EarlyStopping(\n",
    "    monitor=\"val_loss\",\n",
    "    verbose=1,\n",
    "    patience=5,\n",
    "    mode=\"auto\",\n",
    "    restore_best_weights=True,\n",
    ")\n",
    "\n",
    "adam_opt = Adam(learning_rate= 3e-3)"
   ]
  },
  {
   "cell_type": "code",
   "execution_count": 19,
   "id": "92772731",
   "metadata": {},
   "outputs": [],
   "source": [
    "def evaluate_model(model, model_name):\n",
    "    test_indicies = [2,3,4,5,1]\n",
    "\n",
    "    model.load_weights(weight_address+model_name) # loads the best weight before evaluating\n",
    "    for i in range(5):\n",
    "        print('Test set {} F1 score:'.format(test_indicies[i]))\n",
    "        preds = np.argmax(model.predict(X_test[i], batch_size=4), axis = 1)\n",
    "        score = f1_score(Y_test[i], preds, average = 'weighted')\n",
    "        print(score)\n",
    "        with open(results_address+model_name+'_test_results.txt','a') as f:\n",
    "            f.write('Test set '+str(test_indicies[i])+' F1 score:')\n",
    "            f.write('\\n'+str(score))\n",
    "            f.write('\\n===\\n')"
   ]
  },
  {
   "cell_type": "code",
   "execution_count": 20,
   "id": "947a5b50",
   "metadata": {},
   "outputs": [],
   "source": [
    "def plot_history(history, model_name):\n",
    "    print('Highest train acc: {:.3f} epoch: {}\\nHighest val acc: {:.3f} epoch: {}'\\\n",
    "        .format(max(history.history['accuracy']), 1+np.argmax(np.array(history.history['accuracy'])),\n",
    "                max(history.history['val_accuracy']), 1+np.argmax(np.array(history.history['val_accuracy']))))\n",
    "\n",
    "    plt.title('Training history of '+ model_name)\n",
    "    plt.plot(history.history['accuracy'],'ro-')\n",
    "    plt.plot(history.history['val_accuracy'],'bx-')\n",
    "    plt.legend(['accuracy','val_accuracy'])\n",
    "    plt.savefig(results_address + model_name+'.png')\n",
    "    plt.show()"
   ]
  },
  {
   "cell_type": "code",
   "execution_count": 21,
   "id": "521252fd",
   "metadata": {},
   "outputs": [],
   "source": [
    "def make_checkpointer(model_name):\n",
    "    return tf.keras.callbacks.ModelCheckpoint(\n",
    "    weight_address + model_name, monitor='val_loss', verbose=0, save_best_only=True,\n",
    "    save_weights_only=True)"
   ]
  },
  {
   "cell_type": "code",
   "execution_count": 22,
   "id": "1190aff9",
   "metadata": {},
   "outputs": [],
   "source": [
    "metrics = ['accuracy']"
   ]
  },
  {
   "cell_type": "markdown",
   "id": "72b3e254",
   "metadata": {},
   "source": [
    "#### Training"
   ]
  },
  {
   "cell_type": "markdown",
   "id": "b2a1aadc",
   "metadata": {},
   "source": [
    "data with pool size smaller than 4 does not fit in my GPU"
   ]
  },
  {
   "cell_type": "code",
   "execution_count": 17,
   "id": "d989b9f0",
   "metadata": {},
   "outputs": [],
   "source": [
    "eps = 20"
   ]
  },
  {
   "cell_type": "code",
   "execution_count": 23,
   "id": "10acc57f",
   "metadata": {},
   "outputs": [
    {
     "name": "stdout",
     "output_type": "stream",
     "text": [
      "transformer_cnn_k3_32f_4pool\n",
      "Model: \"model_3\"\n",
      "_________________________________________________________________\n",
      " Layer (type)                Output Shape              Param #   \n",
      "=================================================================\n",
      " input_4 (InputLayer)        [(None, 20557)]           0         \n",
      "                                                                 \n",
      " token_and_position_embeddin  (None, 20557, 50)        12950     \n",
      " g_3 (TokenAndPositionEmbedd                                     \n",
      " ing)                                                            \n",
      "                                                                 \n",
      " conv1d_3 (Conv1D)           (None, 20555, 32)         4832      \n",
      "                                                                 \n",
      " max_pooling1d_3 (MaxPooling  (None, 5138, 32)         0         \n",
      " 1D)                                                             \n",
      "                                                                 \n",
      " transformer_block_3 (Transf  (None, 5138, 32)         9616      \n",
      " ormerBlock)                                                     \n",
      "                                                                 \n",
      " global_average_pooling1d_3   (None, 32)               0         \n",
      " (GlobalAveragePooling1D)                                        \n",
      "                                                                 \n",
      " dense_14 (Dense)            (None, 20)                660       \n",
      "                                                                 \n",
      " dropout_11 (Dropout)        (None, 20)                0         \n",
      "                                                                 \n",
      " dense_15 (Dense)            (None, 6)                 126       \n",
      "                                                                 \n",
      "=================================================================\n",
      "Total params: 28,184\n",
      "Trainable params: 28,184\n",
      "Non-trainable params: 0\n",
      "_________________________________________________________________\n"
     ]
    }
   ],
   "source": [
    "model_name = model_names[0]\n",
    "print(model_name)\n",
    "\n",
    "check_point = make_checkpointer(model_name)\n",
    "model = create_model_cnn_transformer(filters= 32, maxlen=MAXLEN, pool_window=4, summary= True)\n",
    "\n",
    "model.compile(optimizer= adam_opt, loss= \"sparse_categorical_crossentropy\", metrics= metrics)"
   ]
  },
  {
   "cell_type": "code",
   "execution_count": 24,
   "id": "9009084d",
   "metadata": {},
   "outputs": [
    {
     "name": "stdout",
     "output_type": "stream",
     "text": [
      "Epoch 1/20\n",
      "375/375 [==============================] - 48s 125ms/step - loss: 0.9344 - accuracy: 0.5247 - val_loss: 0.6397 - val_accuracy: 0.7248 - lr: 0.0030\n",
      "Epoch 2/20\n",
      "375/375 [==============================] - 47s 126ms/step - loss: 0.5751 - accuracy: 0.6720 - val_loss: 0.6154 - val_accuracy: 0.6798 - lr: 0.0030\n",
      "Epoch 3/20\n",
      "375/375 [==============================] - 48s 127ms/step - loss: 0.7352 - accuracy: 0.6573 - val_loss: 0.4167 - val_accuracy: 0.8734 - lr: 0.0030\n",
      "Epoch 4/20\n",
      "375/375 [==============================] - 47s 126ms/step - loss: 0.4328 - accuracy: 0.7620 - val_loss: 0.3865 - val_accuracy: 0.8294 - lr: 0.0030\n",
      "Epoch 5/20\n",
      "375/375 [==============================] - 47s 124ms/step - loss: 0.3183 - accuracy: 0.8433 - val_loss: 0.3543 - val_accuracy: 0.9514 - lr: 0.0030\n",
      "Epoch 6/20\n",
      "375/375 [==============================] - 46s 124ms/step - loss: 0.2190 - accuracy: 0.9013 - val_loss: 0.3528 - val_accuracy: 0.9569 - lr: 0.0030\n",
      "Epoch 7/20\n",
      "375/375 [==============================] - 47s 124ms/step - loss: 0.1614 - accuracy: 0.9267 - val_loss: 0.3185 - val_accuracy: 0.9468 - lr: 0.0030\n",
      "Epoch 8/20\n",
      "375/375 [==============================] - 47s 124ms/step - loss: 0.1510 - accuracy: 0.9420 - val_loss: 0.3052 - val_accuracy: 0.9743 - lr: 0.0030\n",
      "Epoch 9/20\n",
      "375/375 [==============================] - 47s 124ms/step - loss: 0.1328 - accuracy: 0.9447 - val_loss: 0.3508 - val_accuracy: 0.9761 - lr: 0.0030\n",
      "Epoch 10/20\n",
      "375/375 [==============================] - 46s 124ms/step - loss: 0.1020 - accuracy: 0.9567 - val_loss: 0.2976 - val_accuracy: 0.9706 - lr: 0.0030\n",
      "Epoch 11/20\n",
      "375/375 [==============================] - 46s 124ms/step - loss: 0.0913 - accuracy: 0.9680 - val_loss: 0.6442 - val_accuracy: 0.8128 - lr: 0.0030\n",
      "Epoch 12/20\n",
      "375/375 [==============================] - 46s 124ms/step - loss: 0.0740 - accuracy: 0.9833 - val_loss: 0.3149 - val_accuracy: 0.9826 - lr: 0.0030\n",
      "Epoch 13/20\n",
      "375/375 [==============================] - 46s 124ms/step - loss: 0.0788 - accuracy: 0.9793 - val_loss: 0.3054 - val_accuracy: 0.9853 - lr: 0.0030\n",
      "Epoch 14/20\n",
      "375/375 [==============================] - 46s 124ms/step - loss: 0.0713 - accuracy: 0.9833 - val_loss: 0.6121 - val_accuracy: 0.9000 - lr: 0.0030\n",
      "Epoch 15/20\n",
      "375/375 [==============================] - ETA: 0s - loss: 0.1046 - accuracy: 0.9707\n",
      "Epoch 00015: ReduceLROnPlateau reducing learning rate to 0.001500000013038516.\n",
      "375/375 [==============================] - 47s 124ms/step - loss: 0.1046 - accuracy: 0.9707 - val_loss: 0.3872 - val_accuracy: 0.9761 - lr: 0.0030\n",
      "Epoch 16/20\n",
      "375/375 [==============================] - 46s 122ms/step - loss: 0.0525 - accuracy: 0.9853 - val_loss: 0.3879 - val_accuracy: 0.9789 - lr: 0.0015\n",
      "Epoch 17/20\n",
      "375/375 [==============================] - 46s 122ms/step - loss: 0.0414 - accuracy: 0.9913 - val_loss: 0.3841 - val_accuracy: 0.9835 - lr: 0.0015\n",
      "Epoch 18/20\n",
      "375/375 [==============================] - 46s 124ms/step - loss: 0.0382 - accuracy: 0.9920 - val_loss: 0.3381 - val_accuracy: 0.9807 - lr: 0.0015\n",
      "Epoch 19/20\n",
      "375/375 [==============================] - 45s 121ms/step - loss: 0.0333 - accuracy: 0.9920 - val_loss: 0.3706 - val_accuracy: 0.9761 - lr: 0.0015\n",
      "Epoch 20/20\n",
      "375/375 [==============================] - ETA: 0s - loss: 0.0401 - accuracy: 0.9893\n",
      "Epoch 00020: ReduceLROnPlateau reducing learning rate to 0.000750000006519258.\n",
      "375/375 [==============================] - 45s 120ms/step - loss: 0.0401 - accuracy: 0.9893 - val_loss: 0.3408 - val_accuracy: 0.9853 - lr: 0.0015\n",
      "Highest train acc: 0.992 epoch: 18\n",
      "Highest val acc: 0.985 epoch: 13\n"
     ]
    },
    {
     "data": {
      "image/png": "[encoded data removed]",
      "text/plain": [
       "<Figure size 432x288 with 1 Axes>"
      ]
     },
     "metadata": {
      "needs_background": "light"
     },
     "output_type": "display_data"
    },
    {
     "name": "stdout",
     "output_type": "stream",
     "text": [
      "Test set 2 F1 score:\n",
      "0.9703125235128376\n",
      "Test set 3 F1 score:\n",
      "0.9908444531332044\n",
      "Test set 4 F1 score:\n",
      "0.9928641790139182\n",
      "Test set 5 F1 score:\n",
      "0.9889335827022537\n",
      "Test set 1 F1 score:\n",
      "0.9909770620579825\n"
     ]
    }
   ],
   "source": [
    "history = model.fit(X_train, Y_train,\n",
    "                    batch_size=4, epochs=eps,\n",
    "                    validation_data=(X_test[0], Y_test[0]),\n",
    "                    callbacks = [check_point, lr_decay])\n",
    "\n",
    "plot_history(history, model_name)\n",
    "evaluate_model(model, model_name)"
   ]
  },
  {
   "cell_type": "code",
   "execution_count": 22,
   "id": "213fbe64",
   "metadata": {},
   "outputs": [
    {
     "name": "stdout",
     "output_type": "stream",
     "text": [
      "transformer_cnn_k3_64f_4pool\n",
      "Model: \"model_1\"\n",
      "_________________________________________________________________\n",
      " Layer (type)                Output Shape              Param #   \n",
      "=================================================================\n",
      " input_2 (InputLayer)        [(None, 20557)]           0         \n",
      "                                                                 \n",
      " token_and_position_embeddin  (None, 20557, 50)        12950     \n",
      " g_1 (TokenAndPositionEmbedd                                     \n",
      " ing)                                                            \n",
      "                                                                 \n",
      " conv1d_1 (Conv1D)           (None, 20555, 64)         9664      \n",
      "                                                                 \n",
      " max_pooling1d_1 (MaxPooling  (None, 5138, 64)         0         \n",
      " 1D)                                                             \n",
      "                                                                 \n",
      " transformer_block_1 (Transf  (None, 5138, 64)         35600     \n",
      " ormerBlock)                                                     \n",
      "                                                                 \n",
      " global_average_pooling1d_1   (None, 64)               0         \n",
      " (GlobalAveragePooling1D)                                        \n",
      "                                                                 \n",
      " dense_6 (Dense)             (None, 20)                1300      \n",
      "                                                                 \n",
      " dropout_5 (Dropout)         (None, 20)                0         \n",
      "                                                                 \n",
      " dense_7 (Dense)             (None, 6)                 126       \n",
      "                                                                 \n",
      "=================================================================\n",
      "Total params: 59,640\n",
      "Trainable params: 59,640\n",
      "Non-trainable params: 0\n",
      "_________________________________________________________________\n"
     ]
    }
   ],
   "source": [
    "model_name = model_names[1]\n",
    "print(model_name)\n",
    "check_point = make_checkpointer(model_name)\n",
    "\n",
    "model = create_model_cnn_transformer(filters=64, maxlen=MAXLEN, pool_window=4, summary= True)\n",
    "\n",
    "model.compile(optimizer= adam_opt, loss= \"sparse_categorical_crossentropy\", metrics=metrics)"
   ]
  },
  {
   "cell_type": "code",
   "execution_count": 23,
   "id": "5e9187e7",
   "metadata": {},
   "outputs": [
    {
     "name": "stdout",
     "output_type": "stream",
     "text": [
      "Epoch 1/20\n",
      "375/375 [==============================] - 50s 131ms/step - loss: 0.8671 - accuracy: 0.5800 - val_loss: 0.5744 - val_accuracy: 0.7248 - lr: 0.0030\n",
      "Epoch 2/20\n",
      "375/375 [==============================] - 49s 130ms/step - loss: 0.5697 - accuracy: 0.6793 - val_loss: 0.5787 - val_accuracy: 0.7339 - lr: 0.0030\n",
      "Epoch 3/20\n",
      "375/375 [==============================] - 49s 130ms/step - loss: 0.5591 - accuracy: 0.6647 - val_loss: 0.6193 - val_accuracy: 0.7248 - lr: 0.0030\n",
      "Epoch 4/20\n",
      "375/375 [==============================] - 49s 130ms/step - loss: 0.5538 - accuracy: 0.6827 - val_loss: 0.5899 - val_accuracy: 0.7642 - lr: 0.0030\n",
      "Epoch 5/20\n",
      "375/375 [==============================] - 49s 131ms/step - loss: 0.5236 - accuracy: 0.7393 - val_loss: 0.4065 - val_accuracy: 0.8725 - lr: 0.0030\n",
      "Epoch 6/20\n",
      "375/375 [==============================] - 49s 130ms/step - loss: 0.3799 - accuracy: 0.7933 - val_loss: 0.4328 - val_accuracy: 0.8569 - lr: 0.0030\n",
      "Epoch 7/20\n",
      "375/375 [==============================] - 49s 130ms/step - loss: 0.4072 - accuracy: 0.7860 - val_loss: 0.4086 - val_accuracy: 0.8881 - lr: 0.0030\n",
      "Epoch 8/20\n",
      "375/375 [==============================] - 49s 130ms/step - loss: 0.3006 - accuracy: 0.8147 - val_loss: 0.4742 - val_accuracy: 0.7771 - lr: 0.0030\n",
      "Epoch 9/20\n",
      "375/375 [==============================] - 49s 131ms/step - loss: 0.2496 - accuracy: 0.8740 - val_loss: 0.3055 - val_accuracy: 0.9064 - lr: 0.0030\n",
      "Epoch 10/20\n",
      "375/375 [==============================] - 49s 130ms/step - loss: 0.1633 - accuracy: 0.9453 - val_loss: 0.1941 - val_accuracy: 0.9459 - lr: 0.0030\n",
      "Epoch 11/20\n",
      "375/375 [==============================] - 49s 130ms/step - loss: 0.2317 - accuracy: 0.9253 - val_loss: 0.3406 - val_accuracy: 0.9229 - lr: 0.0030\n",
      "Epoch 12/20\n",
      "375/375 [==============================] - 49s 130ms/step - loss: 0.1415 - accuracy: 0.9520 - val_loss: 0.2493 - val_accuracy: 0.9706 - lr: 0.0030\n",
      "Epoch 13/20\n",
      "375/375 [==============================] - 49s 130ms/step - loss: 0.0805 - accuracy: 0.9760 - val_loss: 0.2746 - val_accuracy: 0.9780 - lr: 0.0030\n",
      "Epoch 14/20\n",
      "375/375 [==============================] - 49s 130ms/step - loss: 0.0475 - accuracy: 0.9860 - val_loss: 0.3256 - val_accuracy: 0.9679 - lr: 0.0030\n",
      "Epoch 15/20\n",
      "375/375 [==============================] - ETA: 0s - loss: 0.0492 - accuracy: 0.9840\n",
      "Epoch 00015: ReduceLROnPlateau reducing learning rate to 0.001500000013038516.\n",
      "375/375 [==============================] - 49s 130ms/step - loss: 0.0492 - accuracy: 0.9840 - val_loss: 0.2507 - val_accuracy: 0.9798 - lr: 0.0030\n",
      "Epoch 16/20\n",
      "375/375 [==============================] - 49s 130ms/step - loss: 0.0322 - accuracy: 0.9907 - val_loss: 0.2827 - val_accuracy: 0.9771 - lr: 0.0015\n",
      "Epoch 17/20\n",
      "375/375 [==============================] - 49s 130ms/step - loss: 0.0105 - accuracy: 0.9953 - val_loss: 0.3224 - val_accuracy: 0.9789 - lr: 0.0015\n",
      "Epoch 18/20\n",
      "375/375 [==============================] - 49s 130ms/step - loss: 0.0090 - accuracy: 0.9967 - val_loss: 0.3318 - val_accuracy: 0.9789 - lr: 0.0015\n",
      "Epoch 19/20\n",
      "375/375 [==============================] - 49s 130ms/step - loss: 0.0152 - accuracy: 0.9933 - val_loss: 0.2749 - val_accuracy: 0.9807 - lr: 0.0015\n",
      "Epoch 20/20\n",
      "375/375 [==============================] - ETA: 0s - loss: 0.0070 - accuracy: 0.9980\n",
      "Epoch 00020: ReduceLROnPlateau reducing learning rate to 0.000750000006519258.\n",
      "375/375 [==============================] - 49s 130ms/step - loss: 0.0070 - accuracy: 0.9980 - val_loss: 0.3884 - val_accuracy: 0.9761 - lr: 0.0015\n",
      "Highest train acc: 0.998 epoch: 20\n",
      "Highest val acc: 0.981 epoch: 19\n"
     ]
    },
    {
     "data": {
      "image/png": "[encoded data removed]",
      "text/plain": [
       "<Figure size 432x288 with 1 Axes>"
      ]
     },
     "metadata": {
      "needs_background": "light"
     },
     "output_type": "display_data"
    },
    {
     "name": "stdout",
     "output_type": "stream",
     "text": [
      "Test set 2 F1 score:\n",
      "0.9452722669631739\n",
      "Test set 3 F1 score:\n",
      "0.9624207978932472\n",
      "Test set 4 F1 score:\n",
      "0.9765804712120796\n",
      "Test set 5 F1 score:\n",
      "0.9703926490184327\n",
      "Test set 1 F1 score:\n",
      "0.9436692545657792\n"
     ]
    }
   ],
   "source": [
    "history = model.fit(X_train, Y_train,\n",
    "                    batch_size=4, epochs=eps,\n",
    "                    validation_data=(X_test[0], Y_test[0]),\n",
    "                    callbacks = [check_point, lr_decay])\n",
    "\n",
    "plot_history(history, model_name)\n",
    "evaluate_model(model, model_name)"
   ]
  },
  {
   "cell_type": "code",
   "execution_count": 48,
   "id": "395fdb0f",
   "metadata": {},
   "outputs": [
    {
     "name": "stdout",
     "output_type": "stream",
     "text": [
      "transformer_cnn_k3_128f_4pool\n",
      "Model: \"model_1\"\n",
      "_________________________________________________________________\n",
      " Layer (type)                Output Shape              Param #   \n",
      "=================================================================\n",
      " input_2 (InputLayer)        [(None, 20557)]           0         \n",
      "                                                                 \n",
      " token_and_position_embeddin  (None, 20557, 50)        12950     \n",
      " g_1 (TokenAndPositionEmbedd                                     \n",
      " ing)                                                            \n",
      "                                                                 \n",
      " conv1d_7 (Conv1D)           (None, 20555, 128)        19328     \n",
      "                                                                 \n",
      " max_pooling1d_7 (MaxPooling  (None, 5138, 128)        0         \n",
      " 1D)                                                             \n",
      "                                                                 \n",
      " transformer_block_1 (Transf  (None, 5138, 128)        136720    \n",
      " ormerBlock)                                                     \n",
      "                                                                 \n",
      " global_average_pooling1d_4   (None, 128)              0         \n",
      " (GlobalAveragePooling1D)                                        \n",
      "                                                                 \n",
      " dense_9 (Dense)             (None, 20)                2580      \n",
      "                                                                 \n",
      " dropout_5 (Dropout)         (None, 20)                0         \n",
      "                                                                 \n",
      " dense_10 (Dense)            (None, 6)                 126       \n",
      "                                                                 \n",
      "=================================================================\n",
      "Total params: 171,704\n",
      "Trainable params: 171,704\n",
      "Non-trainable params: 0\n",
      "_________________________________________________________________\n"
     ]
    }
   ],
   "source": [
    "model_name = model_names[2]\n",
    "print(model_name)\n",
    "check_point = make_checkpointer(model_name)\n",
    "\n",
    "model = create_model_cnn_transformer(filters=128, maxlen=MAXLEN, pool_window=4, summary= True)\n",
    "\n",
    "model.compile(optimizer= adam_opt, loss= \"sparse_categorical_crossentropy\", metrics=['accuracy'])"
   ]
  },
  {
   "cell_type": "code",
   "execution_count": 27,
   "id": "09c8f3f2",
   "metadata": {},
   "outputs": [
    {
     "name": "stdout",
     "output_type": "stream",
     "text": [
      "Epoch 1/30\n",
      "375/375 [==============================] - 61s 160ms/step - loss: 1.5208 - accuracy: 0.2740 - val_loss: 1.2748 - val_accuracy: 0.3706 - lr: 0.0030\n",
      "Epoch 2/30\n",
      "375/375 [==============================] - 60s 160ms/step - loss: 1.1218 - accuracy: 0.4627 - val_loss: 0.7515 - val_accuracy: 0.6284 - lr: 0.0030\n",
      "Epoch 3/30\n",
      "375/375 [==============================] - 60s 160ms/step - loss: 0.7014 - accuracy: 0.6393 - val_loss: 0.6378 - val_accuracy: 0.7009 - lr: 0.0030\n",
      "Epoch 4/30\n",
      "375/375 [==============================] - 60s 161ms/step - loss: 0.6602 - accuracy: 0.6507 - val_loss: 0.6685 - val_accuracy: 0.7018 - lr: 0.0030\n",
      "Epoch 5/30\n",
      "375/375 [==============================] - 60s 160ms/step - loss: 0.6486 - accuracy: 0.6487 - val_loss: 0.6622 - val_accuracy: 0.6330 - lr: 0.0030\n",
      "Epoch 6/30\n",
      "375/375 [==============================] - 58s 156ms/step - loss: 0.6588 - accuracy: 0.6500 - val_loss: 0.5268 - val_accuracy: 0.8211 - lr: 0.0030\n",
      "Epoch 7/30\n",
      "375/375 [==============================] - 57s 153ms/step - loss: 0.5933 - accuracy: 0.6887 - val_loss: 0.4795 - val_accuracy: 0.8138 - lr: 0.0030\n",
      "Epoch 8/30\n",
      "375/375 [==============================] - 57s 153ms/step - loss: 0.5753 - accuracy: 0.7180 - val_loss: 0.4389 - val_accuracy: 0.9468 - lr: 0.0030\n",
      "Epoch 9/30\n",
      "375/375 [==============================] - 57s 153ms/step - loss: 0.5213 - accuracy: 0.7413 - val_loss: 0.4094 - val_accuracy: 0.8018 - lr: 0.0030\n",
      "Epoch 10/30\n",
      "375/375 [==============================] - 57s 153ms/step - loss: 0.5084 - accuracy: 0.7553 - val_loss: 0.3968 - val_accuracy: 0.7899 - lr: 0.0030\n",
      "Epoch 11/30\n",
      "375/375 [==============================] - 57s 153ms/step - loss: 0.4788 - accuracy: 0.7680 - val_loss: 0.3876 - val_accuracy: 0.8661 - lr: 0.0030\n",
      "Epoch 12/30\n",
      "375/375 [==============================] - 58s 153ms/step - loss: 0.4417 - accuracy: 0.7993 - val_loss: 0.4421 - val_accuracy: 0.8697 - lr: 0.0030\n",
      "Epoch 13/30\n",
      "375/375 [==============================] - 57s 153ms/step - loss: 0.4623 - accuracy: 0.7847 - val_loss: 0.4965 - val_accuracy: 0.8422 - lr: 0.0030\n",
      "Epoch 14/30\n",
      "375/375 [==============================] - 57s 153ms/step - loss: 0.4125 - accuracy: 0.8260 - val_loss: 0.4802 - val_accuracy: 0.8734 - lr: 0.0030\n",
      "Epoch 15/30\n",
      "375/375 [==============================] - 57s 153ms/step - loss: 0.4017 - accuracy: 0.8180 - val_loss: 0.4490 - val_accuracy: 0.8844 - lr: 0.0030\n",
      "Epoch 16/30\n",
      "375/375 [==============================] - ETA: 0s - loss: 0.3698 - accuracy: 0.8333\n",
      "Epoch 00016: ReduceLROnPlateau reducing learning rate to 0.001500000013038516.\n",
      "375/375 [==============================] - 57s 153ms/step - loss: 0.3698 - accuracy: 0.8333 - val_loss: 0.4640 - val_accuracy: 0.9156 - lr: 0.0030\n",
      "Epoch 17/30\n",
      "375/375 [==============================] - 57s 153ms/step - loss: 0.3132 - accuracy: 0.8660 - val_loss: 0.3261 - val_accuracy: 0.9394 - lr: 0.0015\n",
      "Epoch 18/30\n",
      "375/375 [==============================] - 57s 153ms/step - loss: 0.3062 - accuracy: 0.8873 - val_loss: 0.3646 - val_accuracy: 0.9239 - lr: 0.0015\n",
      "Epoch 19/30\n",
      "375/375 [==============================] - 57s 153ms/step - loss: 0.2638 - accuracy: 0.9113 - val_loss: 0.3790 - val_accuracy: 0.8853 - lr: 0.0015\n",
      "Epoch 20/30\n",
      "375/375 [==============================] - 58s 153ms/step - loss: 0.2015 - accuracy: 0.9253 - val_loss: 0.2848 - val_accuracy: 0.9422 - lr: 0.0015\n",
      "Epoch 21/30\n",
      "375/375 [==============================] - 57s 153ms/step - loss: 0.1914 - accuracy: 0.9300 - val_loss: 0.3278 - val_accuracy: 0.9431 - lr: 0.0015\n",
      "Epoch 22/30\n",
      "375/375 [==============================] - 57s 153ms/step - loss: 0.1894 - accuracy: 0.9353 - val_loss: 0.2926 - val_accuracy: 0.9495 - lr: 0.0015\n",
      "Epoch 23/30\n",
      "375/375 [==============================] - 57s 153ms/step - loss: 0.2322 - accuracy: 0.9273 - val_loss: 0.3405 - val_accuracy: 0.9404 - lr: 0.0015\n",
      "Epoch 24/30\n",
      "375/375 [==============================] - 57s 153ms/step - loss: 0.1567 - accuracy: 0.9493 - val_loss: 0.3752 - val_accuracy: 0.9596 - lr: 0.0015\n",
      "Epoch 25/30\n",
      "375/375 [==============================] - ETA: 0s - loss: 0.1571 - accuracy: 0.9533\n",
      "Epoch 00025: ReduceLROnPlateau reducing learning rate to 0.000750000006519258.\n",
      "375/375 [==============================] - 57s 153ms/step - loss: 0.1571 - accuracy: 0.9533 - val_loss: 0.3427 - val_accuracy: 0.9642 - lr: 0.0015\n",
      "Epoch 26/30\n",
      "375/375 [==============================] - 57s 153ms/step - loss: 0.1271 - accuracy: 0.9587 - val_loss: 0.3452 - val_accuracy: 0.9697 - lr: 7.5000e-04\n",
      "Epoch 27/30\n",
      "375/375 [==============================] - 57s 153ms/step - loss: 0.1163 - accuracy: 0.9613 - val_loss: 0.3652 - val_accuracy: 0.9706 - lr: 7.5000e-04\n",
      "Epoch 28/30\n",
      "375/375 [==============================] - 57s 153ms/step - loss: 0.0990 - accuracy: 0.9647 - val_loss: 0.3807 - val_accuracy: 0.9642 - lr: 7.5000e-04\n",
      "Epoch 29/30\n",
      "375/375 [==============================] - 57s 153ms/step - loss: 0.0982 - accuracy: 0.9680 - val_loss: 0.3680 - val_accuracy: 0.9642 - lr: 7.5000e-04\n",
      "Epoch 30/30\n",
      "375/375 [==============================] - ETA: 0s - loss: 0.1061 - accuracy: 0.9593\n",
      "Epoch 00030: ReduceLROnPlateau reducing learning rate to 0.000375000003259629.\n",
      "375/375 [==============================] - 57s 153ms/step - loss: 0.1061 - accuracy: 0.9593 - val_loss: 0.3646 - val_accuracy: 0.9615 - lr: 7.5000e-04\n",
      "Highest train acc: 0.968 epoch: 29\n",
      "Highest val acc: 0.971 epoch: 27\n"
     ]
    },
    {
     "data": {
      "image/png": "[encoded data removed]",
      "text/plain": [
       "<Figure size 432x288 with 1 Axes>"
      ]
     },
     "metadata": {
      "needs_background": "light"
     },
     "output_type": "display_data"
    },
    {
     "name": "stdout",
     "output_type": "stream",
     "text": [
      "Test set 2 F1 score:\n",
      "0.9419605287397811\n",
      "Test set 3 F1 score:\n",
      "0.8988501739103574\n",
      "Test set 4 F1 score:\n",
      "0.9123703025983049\n",
      "Test set 5 F1 score:\n",
      "0.9216075243058601\n",
      "Test set 1 F1 score:\n",
      "0.8062399566057783\n"
     ]
    }
   ],
   "source": [
    "history = model.fit(X_train, Y_train,\n",
    "                    batch_size=4, epochs=30,\n",
    "                    validation_data=(X_test[0], Y_test[0]),\n",
    "                    callbacks = [check_point, lr_decay])\n",
    "\n",
    "plot_history(history, model_name)\n",
    "evaluate_model(model, model_name)"
   ]
  },
  {
   "cell_type": "code",
   "execution_count": 51,
   "id": "0399ed51",
   "metadata": {},
   "outputs": [
    {
     "data": {
      "image/png": "[encoded data removed]",
      "text/plain": [
       "<Figure size 288x288 with 1 Axes>"
      ]
     },
     "metadata": {
      "needs_background": "light"
     },
     "output_type": "display_data"
    }
   ],
   "source": [
    "from sklearn.metrics import confusion_matrix\n",
    "from mlxtend.plotting import plot_confusion_matrix\n",
    "\n",
    "t = 1\n",
    "predictions = model.predict(X_test[t], batch_size = 4)\n",
    "predictions = np.argmax(predictions, axis = -1)\n",
    "labels = Y_test[t]\n",
    "\n",
    "cm  = confusion_matrix(labels, predictions)\n",
    "plot_confusion_matrix(cm,figsize=(4,4), hide_ticks=True, cmap=plt.cm.Blues)\n",
    "plt.xticks(range(NUM_CLASSES), [i+1 for i in range(NUM_CLASSES)], fontsize=12)\n",
    "plt.yticks(range(NUM_CLASSES), [i+1 for i in range(NUM_CLASSES)], fontsize=12)\n",
    "plt.show()"
   ]
  },
  {
   "cell_type": "markdown",
   "id": "f44c1824",
   "metadata": {},
   "source": [
    "issues with differantiating between classes 1, 2 and 3"
   ]
  },
  {
   "cell_type": "code",
   "execution_count": 25,
   "id": "d8220efe",
   "metadata": {},
   "outputs": [
    {
     "name": "stdout",
     "output_type": "stream",
     "text": [
      "cnn_k3_2layers\n",
      "Model: \"sequential_2\"\n",
      "_________________________________________________________________\n",
      " Layer (type)                Output Shape              Param #   \n",
      "=================================================================\n",
      " embedding_2 (Embedding)     (None, None, 50)          13000     \n",
      "                                                                 \n",
      " conv1d_4 (Conv1D)           (None, None, 32)          4832      \n",
      "                                                                 \n",
      " max_pooling1d_4 (MaxPooling  (None, None, 32)         0         \n",
      " 1D)                                                             \n",
      "                                                                 \n",
      " conv1d_5 (Conv1D)           (None, None, 64)          6208      \n",
      "                                                                 \n",
      " max_pooling1d_5 (MaxPooling  (None, None, 64)         0         \n",
      " 1D)                                                             \n",
      "                                                                 \n",
      " global_average_pooling1d_2   (None, 64)               0         \n",
      " (GlobalAveragePooling1D)                                        \n",
      "                                                                 \n",
      " dense_2 (Dense)             (None, 6)                 390       \n",
      "                                                                 \n",
      "=================================================================\n",
      "Total params: 24,430\n",
      "Trainable params: 24,430\n",
      "Non-trainable params: 0\n",
      "_________________________________________________________________\n"
     ]
    }
   ],
   "source": [
    "model_name = model_names[3]\n",
    "print(model_name)\n",
    "\n",
    "check_point = make_checkpointer(model_name)\n",
    "model = create_CNN_model(layers=2, kernel_size=3, summary=True)\n",
    "model.compile(optimizer= adam_opt, loss= \"sparse_categorical_crossentropy\", metrics= metrics)"
   ]
  },
  {
   "cell_type": "code",
   "execution_count": 44,
   "id": "b6884832",
   "metadata": {},
   "outputs": [
    {
     "name": "stdout",
     "output_type": "stream",
     "text": [
      "Epoch 1/20\n",
      "375/375 [==============================] - 3s 7ms/step - loss: 0.1933 - accuracy: 0.9553 - val_loss: 3.6901 - val_accuracy: 0.9908 - lr: 0.0015\n",
      "Epoch 2/20\n",
      "375/375 [==============================] - 3s 8ms/step - loss: 0.0464 - accuracy: 0.9973 - val_loss: 3.6806 - val_accuracy: 0.9908 - lr: 0.0015\n",
      "Epoch 3/20\n",
      "375/375 [==============================] - 3s 8ms/step - loss: 0.0171 - accuracy: 0.9967 - val_loss: 4.1528 - val_accuracy: 0.9064 - lr: 0.0015\n",
      "Epoch 4/20\n",
      "375/375 [==============================] - 4s 10ms/step - loss: 0.0132 - accuracy: 0.9967 - val_loss: 4.0805 - val_accuracy: 0.9908 - lr: 0.0015\n",
      "Epoch 5/20\n",
      "375/375 [==============================] - 3s 7ms/step - loss: 0.0052 - accuracy: 0.9980 - val_loss: 4.1626 - val_accuracy: 0.9908 - lr: 0.0015\n",
      "Epoch 6/20\n",
      "375/375 [==============================] - 3s 8ms/step - loss: 0.0086 - accuracy: 0.9967 - val_loss: 5.5228 - val_accuracy: 0.9908 - lr: 0.0015\n",
      "Epoch 7/20\n",
      "368/375 [============================>.] - ETA: 0s - loss: 0.0057 - accuracy: 0.9973\n",
      "Epoch 00007: ReduceLROnPlateau reducing learning rate to 0.000750000006519258.\n",
      "375/375 [==============================] - 3s 8ms/step - loss: 0.0056 - accuracy: 0.9973 - val_loss: 5.4766 - val_accuracy: 0.9908 - lr: 0.0015\n",
      "Epoch 8/20\n",
      "375/375 [==============================] - 3s 8ms/step - loss: 0.0030 - accuracy: 0.9987 - val_loss: 5.4815 - val_accuracy: 0.9908 - lr: 7.5000e-04\n",
      "Epoch 9/20\n",
      "375/375 [==============================] - 3s 8ms/step - loss: 0.0025 - accuracy: 0.9987 - val_loss: 5.4857 - val_accuracy: 0.9908 - lr: 7.5000e-04\n",
      "Epoch 10/20\n",
      "375/375 [==============================] - 3s 7ms/step - loss: 0.0017 - accuracy: 0.9993 - val_loss: 5.4847 - val_accuracy: 0.9908 - lr: 7.5000e-04\n",
      "Epoch 11/20\n",
      "375/375 [==============================] - 3s 8ms/step - loss: 0.0018 - accuracy: 1.0000 - val_loss: 5.5084 - val_accuracy: 0.9908 - lr: 7.5000e-04\n",
      "Epoch 12/20\n",
      "374/375 [============================>.] - ETA: 0s - loss: 0.0015 - accuracy: 1.0000\n",
      "Epoch 00012: ReduceLROnPlateau reducing learning rate to 0.000375000003259629.\n",
      "375/375 [==============================] - 3s 9ms/step - loss: 0.0015 - accuracy: 1.0000 - val_loss: 5.5145 - val_accuracy: 0.9908 - lr: 7.5000e-04\n",
      "Epoch 13/20\n",
      "375/375 [==============================] - 3s 7ms/step - loss: 7.3105e-04 - accuracy: 1.0000 - val_loss: 5.5439 - val_accuracy: 0.9908 - lr: 3.7500e-04\n",
      "Epoch 14/20\n",
      "375/375 [==============================] - 3s 8ms/step - loss: 5.7385e-04 - accuracy: 1.0000 - val_loss: 5.5483 - val_accuracy: 0.9908 - lr: 3.7500e-04\n",
      "Epoch 15/20\n",
      "375/375 [==============================] - 3s 8ms/step - loss: 5.1011e-04 - accuracy: 1.0000 - val_loss: 5.5601 - val_accuracy: 0.9908 - lr: 3.7500e-04\n",
      "Epoch 16/20\n",
      "375/375 [==============================] - 3s 8ms/step - loss: 4.2345e-04 - accuracy: 1.0000 - val_loss: 5.5859 - val_accuracy: 0.9908 - lr: 3.7500e-04\n",
      "Epoch 17/20\n",
      "373/375 [============================>.] - ETA: 0s - loss: 3.4805e-04 - accuracy: 1.0000\n",
      "Epoch 00017: ReduceLROnPlateau reducing learning rate to 0.0001875000016298145.\n",
      "375/375 [==============================] - 3s 9ms/step - loss: 3.4718e-04 - accuracy: 1.0000 - val_loss: 5.6033 - val_accuracy: 0.9908 - lr: 3.7500e-04\n",
      "Epoch 18/20\n",
      "375/375 [==============================] - 3s 8ms/step - loss: 2.8748e-04 - accuracy: 1.0000 - val_loss: 5.6068 - val_accuracy: 0.9908 - lr: 1.8750e-04\n",
      "Epoch 19/20\n",
      "375/375 [==============================] - 3s 9ms/step - loss: 2.7049e-04 - accuracy: 1.0000 - val_loss: 5.6161 - val_accuracy: 0.9908 - lr: 1.8750e-04\n",
      "Epoch 20/20\n",
      "375/375 [==============================] - 3s 8ms/step - loss: 2.3834e-04 - accuracy: 1.0000 - val_loss: 5.6214 - val_accuracy: 0.9908 - lr: 1.8750e-04\n",
      "Highest train acc: 1.000 epoch: 11\n",
      "Highest val acc: 0.991 epoch: 1\n"
     ]
    },
    {
     "data": {
      "image/png": "[encoded data removed]",
      "text/plain": [
       "<Figure size 432x288 with 1 Axes>"
      ]
     },
     "metadata": {
      "needs_background": "light"
     },
     "output_type": "display_data"
    },
    {
     "name": "stdout",
     "output_type": "stream",
     "text": [
      "Test set 2 F1 score:\n",
      "0.7696382889938496\n",
      "Test set 3 F1 score:\n",
      "0.9314178672319401\n",
      "Test set 4 F1 score:\n",
      "0.9388587903557963\n",
      "Test set 5 F1 score:\n",
      "0.912196806248785\n",
      "Test set 1 F1 score:\n",
      "0.9810125072745483\n"
     ]
    }
   ],
   "source": [
    "history = model.fit(X_train, Y_train,\n",
    "                    batch_size=4, epochs=eps,\n",
    "                    validation_data=(X_test[0], Y_test[0]),\n",
    "                    callbacks = [check_point, lr_decay])\n",
    "\n",
    "plot_history(history, model_name)\n",
    "evaluate_model(model, model_name)"
   ]
  },
  {
   "cell_type": "code",
   "execution_count": 45,
   "id": "e70b34c9",
   "metadata": {},
   "outputs": [
    {
     "data": {
      "image/png": "[encoded data removed]",
      "text/plain": [
       "<Figure size 288x288 with 1 Axes>"
      ]
     },
     "metadata": {
      "needs_background": "light"
     },
     "output_type": "display_data"
    }
   ],
   "source": [
    "from sklearn.metrics import confusion_matrix\n",
    "from mlxtend.plotting import plot_confusion_matrix\n",
    "\n",
    "t = 1\n",
    "predictions = model.predict(X_test[t])\n",
    "predictions = np.argmax(predictions, axis = -1)\n",
    "labels = Y_test[t]\n",
    "\n",
    "cm  = confusion_matrix(labels, predictions)\n",
    "plot_confusion_matrix(cm,figsize=(4,4), hide_ticks=True, cmap=plt.cm.Blues)\n",
    "plt.xticks(range(NUM_CLASSES), [i+1 for i in range(NUM_CLASSES)], fontsize=12)\n",
    "plt.yticks(range(NUM_CLASSES), [i+1 for i in range(NUM_CLASSES)], fontsize=12)\n",
    "plt.show()"
   ]
  },
  {
   "cell_type": "markdown",
   "id": "e30bfe60",
   "metadata": {},
   "source": [
    "apparantly the CNN makes big mistakes in predicting class 2"
   ]
  }
 ],
 "metadata": {
  "kernelspec": {
   "display_name": "Python 3 (ipykernel)",
   "language": "python",
   "name": "python3"
  },
  "language_info": {
   "codemirror_mode": {
    "name": "ipython",
    "version": 3
   },
   "file_extension": ".py",
   "mimetype": "text/x-python",
   "name": "python",
   "nbconvert_exporter": "python",
   "pygments_lexer": "ipython3",
   "version": "3.8.12"
  }
 },
 "nbformat": 4,
 "nbformat_minor": 5
}
